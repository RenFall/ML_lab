{
 "cells": [
  {
   "cell_type": "markdown",
   "metadata": {},
   "source": [
    "# Machine Learning Exercise 8 - Anomaly Detection & Recommender Systems"
   ]
  },
  {
   "cell_type": "markdown",
   "metadata": {},
   "source": [
    "This notebook provides solutions for the eighth machine learning assignment from Coursera, focusing on anomaly detection and building recommender systems. For comprehensive details and formulas, see the exercise text.\n",
    "\n",
    "Here, we implement an anomaly detection algorithm with a Gaussian model on synthetic data and develop a recommender system using collaborative filtering. The dataset for the recommender system involves anime ratings."
   ]
  },
  {
   "cell_type": "markdown",
   "metadata": {},
   "source": [
    "## Anomaly detection"
   ]
  },
  {
   "cell_type": "markdown",
   "metadata": {},
   "source": [
    "In this section of the notebook, we will implement an anomaly detection algorithm using a Gaussian model on synthetic data. After that, we will create a recommendation system by applying the collaborative filtering method and focus on analyzing the anime evaluation dataset."
   ]
  },
  {
   "cell_type": "code",
   "execution_count": 2587,
   "metadata": {
    "collapsed": true
   },
   "outputs": [],
   "source": [
    "import numpy as np\n",
    "import pandas as pd\n",
    "import matplotlib.pyplot as plt\n",
    "import seaborn as sb\n",
    "from scipy.io import loadmat\n",
    "%matplotlib inline"
   ]
  },
  {
   "cell_type": "code",
   "execution_count": 2588,
   "metadata": {},
   "outputs": [],
   "source": [
    "# Generating a synthetic dataset\n",
    "np.random.seed(42) # For reproducibility of results\n",
    "num_normal = 200 # Number of normal points\n",
    "num_anomalies = 20 # Number of anomalies\n",
    "\n",
    "# Generate regular data\n",
    "normal_data = np.random.normal(0, 1, (num_normal, 2))\n",
    "\n",
    "# Generating anomalous data\n",
    "anomalies = np.random.normal(5, 1, (num_anomalies, 2))\n",
    "\n",
    "# Combining normal data and anomalies\n",
    "X = np.vstack((normal_data, anomalies))\n",
    "\n"
   ]
  },
  {
   "cell_type": "code",
   "execution_count": 2589,
   "metadata": {},
   "outputs": [],
   "source": [
    "# Generating a validation dataset\n",
    "num_val_normal = 100\n",
    "num_val_anomalies = 10\n",
    "\n",
    "val_normal_data = np.random.normal(0, 1, (num_val_normal, 2))\n",
    "val_anomalies = np.random.normal(5, 1, (num_val_anomalies, 2))\n",
    "Xval = np.vstack((val_normal_data, val_anomalies))\n",
    "\n",
    "# Create labels for the validation dataset\n",
    "yval = np.zeros(Xval.shape[0])\n",
    "yval[num_val_normal:] = 1 # Mark anomalous points as 1\n"
   ]
  },
  {
   "cell_type": "code",
   "execution_count": 2590,
   "metadata": {
    "collapsed": false
   },
   "outputs": [
    {
     "data": {
      "text/plain": [
       "(220, 2)"
      ]
     },
     "execution_count": 2590,
     "metadata": {},
     "output_type": "execute_result"
    }
   ],
   "source": [
    "# data = loadmat('data/ex8data1.mat')\n",
    "# X = data['X']\n",
    "X.shape"
   ]
  },
  {
   "cell_type": "code",
   "execution_count": 2591,
   "metadata": {
    "collapsed": false
   },
   "outputs": [
    {
     "data": {
      "text/plain": [
       "<matplotlib.collections.PathCollection at 0x1ab983f9b20>"
      ]
     },
     "execution_count": 2591,
     "metadata": {},
     "output_type": "execute_result"
    },
    {
     "data": {
      "image/png": "[encoded data removed]",
      "text/plain": [
       "<Figure size 1200x800 with 1 Axes>"
      ]
     },
     "metadata": {},
     "output_type": "display_data"
    }
   ],
   "source": [
    "fig, ax = plt.subplots(figsize=(12,8))\n",
    "ax.scatter(X[:,0], X[:,1])"
   ]
  },
  {
   "cell_type": "markdown",
   "metadata": {},
   "source": [
    "It appears that there's a pretty tight cluster in the center with several values further out away from the cluser.  In this simple example, these could be considered anomalies.  To find out, we're tasking with estimating a gaussian distribution for each feature in the data.  To do this we'll create a function that returns the mean and variance for each feature."
   ]
  },
  {
   "cell_type": "code",
   "execution_count": 2592,
   "metadata": {
    "collapsed": true
   },
   "outputs": [],
   "source": [
    "def estimate_gaussian(X):\n",
    "    mu = X.mean(axis=0)\n",
    "    sigma = X.var(axis=0)\n",
    "    \n",
    "    return mu, sigma"
   ]
  },
  {
   "cell_type": "code",
   "execution_count": 2593,
   "metadata": {
    "collapsed": false
   },
   "outputs": [
    {
     "data": {
      "text/plain": [
       "(array([0.46839874, 0.49145848]), array([3.08553887, 2.98503901]))"
      ]
     },
     "execution_count": 2593,
     "metadata": {},
     "output_type": "execute_result"
    }
   ],
   "source": [
    "mu, sigma = estimate_gaussian(X)\n",
    "mu, sigma"
   ]
  },
  {
   "cell_type": "markdown",
   "metadata": {},
   "source": [
    "Now that we have our model parameters, we need to determine a probability threshold which indicates that an example should be considered an anomaly.  To do this, we need to use a set of labeled validation data (where the true anomalies have been marked as such) and test the model's performance at identifying those anaomalies given different threshold values."
   ]
  },
  {
   "cell_type": "code",
   "execution_count": 2594,
   "metadata": {
    "collapsed": false
   },
   "outputs": [
    {
     "data": {
      "text/plain": [
       "((110, 2), (110,))"
      ]
     },
     "execution_count": 2594,
     "metadata": {},
     "output_type": "execute_result"
    }
   ],
   "source": [
    "\n",
    "\n",
    "Xval.shape, yval.shape"
   ]
  },
  {
   "cell_type": "markdown",
   "metadata": {},
   "source": [
    "We also need a way to calculate the probability that a data point belongs to a normal distribution.  Fortunately SciPy has this built-in."
   ]
  },
  {
   "cell_type": "code",
   "execution_count": 2595,
   "metadata": {
    "collapsed": false
   },
   "outputs": [
    {
     "data": {
      "text/plain": [
       "1.9734038515276707e-06"
      ]
     },
     "execution_count": 2595,
     "metadata": {},
     "output_type": "execute_result"
    }
   ],
   "source": [
    "from scipy import stats\n",
    "dist = stats.norm(mu[0], sigma[0])\n",
    "dist.pdf(15)"
   ]
  },
  {
   "cell_type": "markdown",
   "metadata": {},
   "source": [
    "We can also pass in an array to the probability density function and get the probability density at every point in the data set."
   ]
  },
  {
   "cell_type": "code",
   "execution_count": 2596,
   "metadata": {
    "collapsed": false
   },
   "outputs": [
    {
     "data": {
      "text/plain": [
       "array([0.12928876, 0.12907611, 0.12598573, 0.12118134, 0.12345729,\n",
       "       0.12353074, 0.12894651, 0.10042845, 0.11522236, 0.11704905,\n",
       "       0.12271455, 0.12820761, 0.12251352, 0.11265901, 0.12176229,\n",
       "       0.12174769, 0.12772692, 0.12844537, 0.12883763, 0.10913409,\n",
       "       0.12879989, 0.12699859, 0.10595569, 0.12356429, 0.12918852,\n",
       "       0.12915286, 0.12068689, 0.12716271, 0.11818983, 0.12916656,\n",
       "       0.12333877, 0.11350616, 0.12849257, 0.12732629, 0.12921683,\n",
       "       0.12921648, 0.1275793 , 0.07835469, 0.12831046, 0.12833454,\n",
       "       0.12611904, 0.12255628, 0.11868374, 0.12794452, 0.12270286,\n",
       "       0.12836134, 0.12031858, 0.1243627 , 0.12909282, 0.12784497])"
      ]
     },
     "execution_count": 2596,
     "metadata": {},
     "output_type": "execute_result"
    }
   ],
   "source": [
    "dist.pdf(X[:,0])[0:50]"
   ]
  },
  {
   "cell_type": "markdown",
   "metadata": {},
   "source": [
    "Let's compute and save the probability density of each of the values in our data set given the gaussian model parameters we calculated above."
   ]
  },
  {
   "cell_type": "code",
   "execution_count": 2597,
   "metadata": {
    "collapsed": false
   },
   "outputs": [
    {
     "data": {
      "text/plain": [
       "(220, 2)"
      ]
     },
     "execution_count": 2597,
     "metadata": {},
     "output_type": "execute_result"
    }
   ],
   "source": [
    "p = np.zeros((X.shape[0], X.shape[1]))\n",
    "p[:,0] = stats.norm(mu[0], sigma[0]).pdf(X[:,0])\n",
    "p[:,1] = stats.norm(mu[1], sigma[1]).pdf(X[:,1])\n",
    "\n",
    "p.shape"
   ]
  },
  {
   "cell_type": "markdown",
   "metadata": {},
   "source": [
    "We also need to do this for the validation set (using the same model parameters).  We'll use these probabilities combined with the true label to determine the optimal probability threshold to assign data points as anomalies."
   ]
  },
  {
   "cell_type": "code",
   "execution_count": 2598,
   "metadata": {
    "collapsed": false
   },
   "outputs": [
    {
     "data": {
      "text/plain": [
       "(110, 2)"
      ]
     },
     "execution_count": 2598,
     "metadata": {},
     "output_type": "execute_result"
    }
   ],
   "source": [
    "pval = np.zeros((Xval.shape[0], Xval.shape[1]))\n",
    "pval[:,0] = stats.norm(mu[0], sigma[0]).pdf(Xval[:,0])\n",
    "pval[:,1] = stats.norm(mu[1], sigma[1]).pdf(Xval[:,1])\n",
    "\n",
    "pval.shape"
   ]
  },
  {
   "cell_type": "markdown",
   "metadata": {},
   "source": [
    "Next, we need a function that finds the best threshold value given the probability density values and true labels.  To do this we'll calculate the F1 score for varying values of epsilon.  F1 is a function of the number of true positives, false positives, and false negatives.  The equations are in the exercise text."
   ]
  },
  {
   "cell_type": "code",
   "execution_count": 2599,
   "metadata": {
    "collapsed": true
   },
   "outputs": [],
   "source": [
    "def select_threshold(pval, yval):\n",
    "    best_epsilon = 0\n",
    "    best_f1 = 0\n",
    "    f1 = 0\n",
    "    \n",
    "    step = (pval.max() - pval.min()) / 1000\n",
    "    \n",
    "    for epsilon in np.arange(pval.min(), pval.max(), step):\n",
    "        preds = pval < epsilon\n",
    "        \n",
    "        tp = np.sum(np.logical_and(preds == 1, yval == 1)).astype(float)\n",
    "        fp = np.sum(np.logical_and(preds == 1, yval == 0)).astype(float)\n",
    "        fn = np.sum(np.logical_and(preds == 0, yval == 1)).astype(float)\n",
    "        \n",
    "        precision = tp / (tp + fp)\n",
    "        recall = tp / (tp + fn)\n",
    "        f1 = (2 * precision * recall) / (precision + recall)\n",
    "        \n",
    "        if f1 > best_f1:\n",
    "            best_f1 = f1\n",
    "            best_epsilon = epsilon\n",
    "    \n",
    "    return best_epsilon, best_f1"
   ]
  },
  {
   "cell_type": "code",
   "execution_count": 2600,
   "metadata": {},
   "outputs": [
    {
     "name": "stderr",
     "output_type": "stream",
     "text": [
      "C:\\Users\\L\\AppData\\Local\\Temp\\ipykernel_14196\\2592719272.py:15: RuntimeWarning: invalid value encountered in scalar divide\n",
      "  precision = tp / (tp + fp)\n"
     ]
    }
   ],
   "source": [
    "# Averaging the probabilities for each example\n",
    "pval = pval.mean(axis=1)\n",
    "\n",
    "# Now pval is a one-dimensional array and can be used in the select_threshold function\n",
    "epsilon, f1 = select_threshold(pval, yval)\n"
   ]
  },
  {
   "cell_type": "code",
   "execution_count": 2601,
   "metadata": {
    "collapsed": false
   },
   "outputs": [
    {
     "name": "stderr",
     "output_type": "stream",
     "text": [
      "C:\\Users\\L\\AppData\\Local\\Temp\\ipykernel_14196\\2592719272.py:15: RuntimeWarning: invalid value encountered in scalar divide\n",
      "  precision = tp / (tp + fp)\n"
     ]
    },
    {
     "data": {
      "text/plain": [
       "(0.07613542754266156, 1.0)"
      ]
     },
     "execution_count": 2601,
     "metadata": {},
     "output_type": "execute_result"
    }
   ],
   "source": [
    "epsilon, f1 = select_threshold(pval, yval)\n",
    "epsilon, f1"
   ]
  },
  {
   "cell_type": "markdown",
   "metadata": {},
   "source": [
    "Finally, we can apply the threshold to the data set and visualize the results."
   ]
  },
  {
   "cell_type": "code",
   "execution_count": 2602,
   "metadata": {
    "collapsed": false
   },
   "outputs": [
    {
     "data": {
      "text/plain": [
       "(array([104, 131, 200, 201, 201, 202, 202, 203, 203, 204, 204, 205, 205,\n",
       "        206, 207, 207, 208, 208, 209, 209, 210, 210, 211, 211, 212, 212,\n",
       "        213, 213, 214, 215, 216, 216, 217, 217, 218, 219], dtype=int64),\n",
       " array([1, 0, 1, 0, 1, 0, 1, 0, 1, 0, 1, 0, 1, 1, 0, 1, 0, 1, 0, 1, 0, 1,\n",
       "        0, 1, 0, 1, 0, 1, 0, 0, 0, 1, 0, 1, 0, 1], dtype=int64))"
      ]
     },
     "execution_count": 2602,
     "metadata": {},
     "output_type": "execute_result"
    }
   ],
   "source": [
    "# indexes of the values considered to be outliers\n",
    "outliers = np.where(p < epsilon)\n",
    "outliers"
   ]
  },
  {
   "cell_type": "code",
   "execution_count": 2603,
   "metadata": {
    "collapsed": false
   },
   "outputs": [
    {
     "data": {
      "text/plain": [
       "<matplotlib.collections.PathCollection at 0x1aba61c6160>"
      ]
     },
     "execution_count": 2603,
     "metadata": {},
     "output_type": "execute_result"
    },
    {
     "data": {
      "image/png": "[encoded data removed]",
      "text/plain": [
       "<Figure size 1200x800 with 1 Axes>"
      ]
     },
     "metadata": {},
     "output_type": "display_data"
    }
   ],
   "source": [
    "fig, ax = plt.subplots(figsize=(12,8))\n",
    "ax.scatter(X[:,0], X[:,1])\n",
    "ax.scatter(X[outliers[0],0], X[outliers[0],1], s=50, color='r', marker='o')"
   ]
  },
  {
   "cell_type": "markdown",
   "metadata": {},
   "source": [
    "The points in red are the ones that were flagged as outliers.  These seem pretty reasonable.  The top right point that has some separation (but was not flagged) may be an outlier too, but it's fairly close.  There's another example in the text of applying this to a higher-dimensional data set, but there's nothing new to do or look at so we'll move on to the last section."
   ]
  },
  {
   "cell_type": "markdown",
   "metadata": {},
   "source": [
    "## Collaborative filtering"
   ]
  },
  {
   "cell_type": "markdown",
   "metadata": {},
   "source": [
    "Recommendation engines use item and user-based similarity measures to examine a user's historical preferences to make recommendations for new \"things\" the user might be interested in.  In this exercise we'll implement a particular recommendation system algorithm called collaborative filtering and apply it to a data set of anime ratings.\n",
    "\n",
    "Let's first load and examine the data we'll be working with."
   ]
  },
  {
   "cell_type": "code",
   "execution_count": 2604,
   "metadata": {},
   "outputs": [],
   "source": [
    "# size = 10000\n",
    "# input_file1 = 'Rating.csv'\n",
    "# input_file2 = 'Anime.csv'\n",
    "# output_file1 = 'smallRating.csv'\n",
    "# output_file2 = 'smallAnime.csv'\n",
    "\n",
    "# # Обработка первого файла\n",
    "# with open(input_file1, 'r', encoding='utf-8') as file:\n",
    "#     lines = [next(file) for _ in range(size)]\n",
    "\n",
    "# with open(output_file1, 'w', encoding='utf-8') as file:\n",
    "#     file.writelines(lines)\n",
    "\n",
    "# # Обработка второго файла\n",
    "# with open(input_file2, 'r', encoding='utf-8') as file:\n",
    "#     lines = [next(file) for _ in range(size)]\n",
    "\n",
    "# with open(output_file2, 'w', encoding='utf-8') as file:\n",
    "#     file.writelines(lines)\n",
    "\n"
   ]
  },
  {
   "cell_type": "code",
   "execution_count": 2605,
   "metadata": {},
   "outputs": [],
   "source": [
    "import pandas as pd\n",
    "\n",
    "# Dataset load\n",
    "anime_df = pd.read_csv('smallAnime.csv')\n",
    "ratings_df = pd.read_csv('smallRating.csv')\n",
    "\n"
   ]
  },
  {
   "cell_type": "code",
   "execution_count": 2606,
   "metadata": {},
   "outputs": [],
   "source": [
    "ratings_df = ratings_df.drop_duplicates(subset=['anime_id', 'user_id'], keep='last')\n",
    "\n",
    "# Can now be safely converted to a matrix\n",
    "pivot_ratings = ratings_df.pivot(index='anime_id', columns='user_id', values='rating').fillna(0)\n",
    "\n",
    "# Padding with zeros for unrated anime\n",
    "pivot_ratings = pivot_ratings.fillna(0)\n",
    "\n",
    "# Convert to NumPy matrix\n",
    "Y = pivot_ratings.to_numpy()\n",
    "\n",
    "# Create a matrix of indicators (1 if the user rated the anime; 0 otherwise)\n",
    "R = np.where(Y > 0, 1, 0)"
   ]
  },
  {
   "cell_type": "code",
   "execution_count": 2607,
   "metadata": {},
   "outputs": [],
   "source": [
    "# Data limit to the first 1973 anime and 117 users\n",
    "limited_ratings_df = ratings_df[ratings_df['anime_id'] <= 1973]\n",
    "limited_ratings_df = limited_ratings_df[limited_ratings_df['user_id'] <= 117]\n",
    "\n",
    "# Create a pivot table with limited data\n",
    "pivot_ratings = limited_ratings_df.pivot(index='anime_id', columns='user_id', values='rating').fillna(0)\n",
    "\n",
    "# Convert to NumPy matrices\n",
    "Y = pivot_ratings.to_numpy()\n",
    "R = np.where(Y > 0, 1, 0)"
   ]
  },
  {
   "cell_type": "code",
   "execution_count": 2608,
   "metadata": {},
   "outputs": [
    {
     "data": {
      "text/html": [
       "<div>\n",
       "<style scoped>\n",
       "    .dataframe tbody tr th:only-of-type {\n",
       "        vertical-align: middle;\n",
       "    }\n",
       "\n",
       "    .dataframe tbody tr th {\n",
       "        vertical-align: top;\n",
       "    }\n",
       "\n",
       "    .dataframe thead th {\n",
       "        text-align: right;\n",
       "    }\n",
       "</style>\n",
       "<table border=\"1\" class=\"dataframe\">\n",
       "  <thead>\n",
       "    <tr style=\"text-align: right;\">\n",
       "      <th></th>\n",
       "      <th>name</th>\n",
       "      <th>genre</th>\n",
       "      <th>type</th>\n",
       "      <th>episodes</th>\n",
       "      <th>rating</th>\n",
       "      <th>members</th>\n",
       "    </tr>\n",
       "    <tr>\n",
       "      <th>anime_id</th>\n",
       "      <th></th>\n",
       "      <th></th>\n",
       "      <th></th>\n",
       "      <th></th>\n",
       "      <th></th>\n",
       "      <th></th>\n",
       "    </tr>\n",
       "  </thead>\n",
       "  <tbody>\n",
       "    <tr>\n",
       "      <th>1</th>\n",
       "      <td>1</td>\n",
       "      <td>1</td>\n",
       "      <td>1</td>\n",
       "      <td>1</td>\n",
       "      <td>1</td>\n",
       "      <td>1</td>\n",
       "    </tr>\n",
       "    <tr>\n",
       "      <th>5</th>\n",
       "      <td>1</td>\n",
       "      <td>1</td>\n",
       "      <td>1</td>\n",
       "      <td>1</td>\n",
       "      <td>1</td>\n",
       "      <td>1</td>\n",
       "    </tr>\n",
       "    <tr>\n",
       "      <th>6</th>\n",
       "      <td>1</td>\n",
       "      <td>1</td>\n",
       "      <td>1</td>\n",
       "      <td>1</td>\n",
       "      <td>1</td>\n",
       "      <td>1</td>\n",
       "    </tr>\n",
       "    <tr>\n",
       "      <th>7</th>\n",
       "      <td>1</td>\n",
       "      <td>1</td>\n",
       "      <td>1</td>\n",
       "      <td>1</td>\n",
       "      <td>1</td>\n",
       "      <td>1</td>\n",
       "    </tr>\n",
       "    <tr>\n",
       "      <th>8</th>\n",
       "      <td>1</td>\n",
       "      <td>1</td>\n",
       "      <td>1</td>\n",
       "      <td>1</td>\n",
       "      <td>1</td>\n",
       "      <td>1</td>\n",
       "    </tr>\n",
       "    <tr>\n",
       "      <th>...</th>\n",
       "      <td>...</td>\n",
       "      <td>...</td>\n",
       "      <td>...</td>\n",
       "      <td>...</td>\n",
       "      <td>...</td>\n",
       "      <td>...</td>\n",
       "    </tr>\n",
       "    <tr>\n",
       "      <th>34476</th>\n",
       "      <td>1</td>\n",
       "      <td>1</td>\n",
       "      <td>1</td>\n",
       "      <td>1</td>\n",
       "      <td>1</td>\n",
       "      <td>1</td>\n",
       "    </tr>\n",
       "    <tr>\n",
       "      <th>34502</th>\n",
       "      <td>1</td>\n",
       "      <td>1</td>\n",
       "      <td>1</td>\n",
       "      <td>1</td>\n",
       "      <td>0</td>\n",
       "      <td>1</td>\n",
       "    </tr>\n",
       "    <tr>\n",
       "      <th>34503</th>\n",
       "      <td>1</td>\n",
       "      <td>1</td>\n",
       "      <td>1</td>\n",
       "      <td>1</td>\n",
       "      <td>1</td>\n",
       "      <td>1</td>\n",
       "    </tr>\n",
       "    <tr>\n",
       "      <th>34514</th>\n",
       "      <td>1</td>\n",
       "      <td>1</td>\n",
       "      <td>1</td>\n",
       "      <td>1</td>\n",
       "      <td>1</td>\n",
       "      <td>1</td>\n",
       "    </tr>\n",
       "    <tr>\n",
       "      <th>34519</th>\n",
       "      <td>1</td>\n",
       "      <td>1</td>\n",
       "      <td>1</td>\n",
       "      <td>1</td>\n",
       "      <td>1</td>\n",
       "      <td>1</td>\n",
       "    </tr>\n",
       "  </tbody>\n",
       "</table>\n",
       "<p>9999 rows × 6 columns</p>\n",
       "</div>"
      ],
      "text/plain": [
       "          name  genre  type  episodes  rating  members\n",
       "anime_id                                              \n",
       "1            1      1     1         1       1        1\n",
       "5            1      1     1         1       1        1\n",
       "6            1      1     1         1       1        1\n",
       "7            1      1     1         1       1        1\n",
       "8            1      1     1         1       1        1\n",
       "...        ...    ...   ...       ...     ...      ...\n",
       "34476        1      1     1         1       1        1\n",
       "34502        1      1     1         1       0        1\n",
       "34503        1      1     1         1       1        1\n",
       "34514        1      1     1         1       1        1\n",
       "34519        1      1     1         1       1        1\n",
       "\n",
       "[9999 rows x 6 columns]"
      ]
     },
     "execution_count": 2608,
     "metadata": {},
     "output_type": "execute_result"
    }
   ],
   "source": [
    "anime_df.groupby('anime_id').count()"
   ]
  },
  {
   "cell_type": "markdown",
   "metadata": {},
   "source": [
    "Y is a (number of animes x number of users) array containing ratings from 1 to 5.  R is an \"indicator\" array containing binary values indicating if a user has rated a anime or not.  Both should have the same shape."
   ]
  },
  {
   "cell_type": "code",
   "execution_count": 2609,
   "metadata": {
    "collapsed": false
   },
   "outputs": [],
   "source": [
    "# Y = data['Y']\n",
    "# R = data['R']\n",
    "# Y.shape, R.shape"
   ]
  },
  {
   "cell_type": "markdown",
   "metadata": {},
   "source": [
    "We can look at the average rating for a anime by averaging over a row in Y for indexes where a rating is present."
   ]
  },
  {
   "cell_type": "code",
   "execution_count": 2610,
   "metadata": {
    "collapsed": false
   },
   "outputs": [
    {
     "data": {
      "text/plain": [
       "9.25"
      ]
     },
     "execution_count": 2610,
     "metadata": {},
     "output_type": "execute_result"
    }
   ],
   "source": [
    "Y[1,np.where(R[1,:]==1)[0]].mean()"
   ]
  },
  {
   "cell_type": "markdown",
   "metadata": {},
   "source": [
    "We can also try to \"visualize\" the data by rendering the matrix as if it were an image.  We can't glean too much from this but it does give us an idea of a relative density of ratings across users and animes."
   ]
  },
  {
   "cell_type": "code",
   "execution_count": 2611,
   "metadata": {
    "collapsed": false
   },
   "outputs": [
    {
     "data": {
      "image/png": "[encoded data removed]",
      "text/plain": [
       "<Figure size 1200x1200 with 1 Axes>"
      ]
     },
     "metadata": {},
     "output_type": "display_data"
    }
   ],
   "source": [
    "fig, ax = plt.subplots(figsize=(12,12))\n",
    "ax.imshow(Y)\n",
    "ax.set_xlabel('Users')\n",
    "ax.set_ylabel('Anime')\n",
    "fig.tight_layout()"
   ]
  },
  {
   "cell_type": "markdown",
   "metadata": {},
   "source": [
    "Next we're going to implement a cost function for collaborative filtering.  Intuitively, the \"cost\" is the degree to which a set of anime rating predictions deviate from the true predictions.  The cost equation is given in the exercise text.  It is based on two sets of parameter matrices called X and Theta in the text.  These are \"unrolled\" into the \"params\" input so that we can use SciPy's optimization package later on.  Note that I've included the array/matrix shapes in comments (for the data we're using in this exercise) to help illustrate how the matrix interactions work."
   ]
  },
  {
   "cell_type": "code",
   "execution_count": 2612,
   "metadata": {
    "collapsed": true
   },
   "outputs": [],
   "source": [
    "def cost(params, Y, R, num_features):\n",
    "    Y = np.matrix(Y)  # (1682, 943)\n",
    "    R = np.matrix(R)  # (1682, 943)\n",
    "    num_animes = Y.shape[0]\n",
    "    num_users = Y.shape[1]\n",
    "    \n",
    "    # reshape the parameter array into parameter matrices\n",
    "    X = np.matrix(np.reshape(params[:num_animes * num_features], (num_animes, num_features)))  # (1682, 10)\n",
    "    Theta = np.matrix(np.reshape(params[num_animes * num_features:], (num_users, num_features)))  # (943, 10)\n",
    "    \n",
    "    # initializations\n",
    "    J = 0\n",
    "    \n",
    "    # compute the cost\n",
    "    error = np.multiply((X * Theta.T) - Y, R)  # (1682, 943)\n",
    "    squared_error = np.power(error, 2)  # (1682, 943)\n",
    "    J = (1. / 2) * np.sum(squared_error)\n",
    "    \n",
    "    return J"
   ]
  },
  {
   "cell_type": "markdown",
   "metadata": {},
   "source": [
    "In order to test this, we're provided with a set of pre-trained parameters that we can evaluate.  To keep the evaluation time down, we'll look at just a small sub-set of the data."
   ]
  },
  {
   "cell_type": "code",
   "execution_count": 2613,
   "metadata": {},
   "outputs": [],
   "source": [
    "from scipy.optimize import minimize"
   ]
  },
  {
   "cell_type": "code",
   "execution_count": 2614,
   "metadata": {},
   "outputs": [],
   "source": [
    "anime_df = pd.read_csv('smallAnime.csv')\n",
    "ratings_df = pd.read_csv('smallRating.csv')"
   ]
  },
  {
   "cell_type": "code",
   "execution_count": 2615,
   "metadata": {},
   "outputs": [],
   "source": [
    "filtered_ratings = ratings_df[ratings_df['rating'] >= 0]\n",
    "# Вычисление средних оценок для каждого аниме\n",
    "mean_ratings = filtered_ratings.groupby('anime_id')['rating'].mean()\n",
    "# Присоединение средних оценок к таблице рейтингов\n",
    "ratings_with_mean = filtered_ratings.join(mean_ratings, on='anime_id', rsuffix='_mean')\n",
    "\n",
    "# Нормализация рейтингов путем вычитания средней оценки\n",
    "ratings_with_mean['normalized_rating'] = ratings_with_mean['rating'] - ratings_with_mean['rating_mean']\n",
    "pivot_ratings = ratings_with_mean.pivot(index='anime_id', columns='user_id', values='normalized_rating').fillna(0)"
   ]
  },
  {
   "cell_type": "code",
   "execution_count": 2616,
   "metadata": {},
   "outputs": [
    {
     "data": {
      "text/html": [
       "<div>\n",
       "<style scoped>\n",
       "    .dataframe tbody tr th:only-of-type {\n",
       "        vertical-align: middle;\n",
       "    }\n",
       "\n",
       "    .dataframe tbody tr th {\n",
       "        vertical-align: top;\n",
       "    }\n",
       "\n",
       "    .dataframe thead th {\n",
       "        text-align: right;\n",
       "    }\n",
       "</style>\n",
       "<table border=\"1\" class=\"dataframe\">\n",
       "  <thead>\n",
       "    <tr style=\"text-align: right;\">\n",
       "      <th></th>\n",
       "      <th>user_id</th>\n",
       "      <th>anime_id</th>\n",
       "      <th>rating</th>\n",
       "      <th>rating_mean</th>\n",
       "      <th>normalized_rating</th>\n",
       "    </tr>\n",
       "  </thead>\n",
       "  <tbody>\n",
       "    <tr>\n",
       "      <th>47</th>\n",
       "      <td>1</td>\n",
       "      <td>8074</td>\n",
       "      <td>10</td>\n",
       "      <td>7.031250</td>\n",
       "      <td>2.968750</td>\n",
       "    </tr>\n",
       "    <tr>\n",
       "      <th>81</th>\n",
       "      <td>1</td>\n",
       "      <td>11617</td>\n",
       "      <td>10</td>\n",
       "      <td>7.434783</td>\n",
       "      <td>2.565217</td>\n",
       "    </tr>\n",
       "    <tr>\n",
       "      <th>83</th>\n",
       "      <td>1</td>\n",
       "      <td>11757</td>\n",
       "      <td>10</td>\n",
       "      <td>8.300000</td>\n",
       "      <td>1.700000</td>\n",
       "    </tr>\n",
       "    <tr>\n",
       "      <th>101</th>\n",
       "      <td>1</td>\n",
       "      <td>15451</td>\n",
       "      <td>10</td>\n",
       "      <td>7.857143</td>\n",
       "      <td>2.142857</td>\n",
       "    </tr>\n",
       "    <tr>\n",
       "      <th>153</th>\n",
       "      <td>2</td>\n",
       "      <td>11771</td>\n",
       "      <td>10</td>\n",
       "      <td>9.000000</td>\n",
       "      <td>1.000000</td>\n",
       "    </tr>\n",
       "  </tbody>\n",
       "</table>\n",
       "</div>"
      ],
      "text/plain": [
       "     user_id  anime_id  rating  rating_mean  normalized_rating\n",
       "47         1      8074      10     7.031250           2.968750\n",
       "81         1     11617      10     7.434783           2.565217\n",
       "83         1     11757      10     8.300000           1.700000\n",
       "101        1     15451      10     7.857143           2.142857\n",
       "153        2     11771      10     9.000000           1.000000"
      ]
     },
     "execution_count": 2616,
     "metadata": {},
     "output_type": "execute_result"
    }
   ],
   "source": [
    "# # Eliminate ratings with negative values\n",
    "# filtered_ratings = ratings_df[ratings_df['rating'] >= 0]\n",
    "\n",
    "# # Calculate the average rating for each anime\n",
    "# mean_ratings = filtered_ratings.groupby('anime_id')['rating'].mean()\n",
    "\n",
    "# # Attaching average ratings to the rating table\n",
    "# ratings_with_mean = filtered_ratings.join(mean_ratings, on='anime_id', rsuffix='_mean')\n",
    "\n",
    "# # Normalize ratings by subtracting the average\n",
    "# ratings_with_mean['normalized_rating'] = ratings_with_mean['rating'] - ratings_with_mean['rating_mean']\n",
    "# # Create a pivot table using normalized ratings\n",
    "# pivot_ratings = ratings_with_mean.pivot(index='anime_id', columns='user_id', values='normalized_rating').fillna(0)\n",
    "\n",
    "# View results\n",
    "ratings_with_mean.head()"
   ]
  },
  {
   "cell_type": "code",
   "execution_count": 2617,
   "metadata": {
    "collapsed": false
   },
   "outputs": [],
   "source": [
    "# pivot_ratings = ratings_df.pivot_table(index='anime_id', columns='user_id', values='normalized_rating').fillna(0)\n",
    "Y = pivot_ratings.to_numpy()\n",
    "R = np.where(Y > 0, 1, 0)"
   ]
  },
  {
   "cell_type": "code",
   "execution_count": 2618,
   "metadata": {
    "collapsed": false
   },
   "outputs": [],
   "source": [
    "# Number of features\n",
    "# num_features = 3\n",
    "num_features = 6\n",
    "# features = 3\n",
    "\n",
    "# Initialize X and Theta\n",
    "num_anime, num_users = Y.shape\n",
    "X = np.random.rand(num_anime, num_features)\n",
    "\n",
    "Theta = np.random.rand(num_users, num_features)\n",
    "params = np.concatenate([X.ravel(), Theta.ravel()])\n",
    "\n",
    "# Finding the optimal learning_rate value\n",
    "learning_rates = [0.01, 0.1, 1, 10]\n",
    "best_learning_rate = None\n",
    "best_cost = float('inf')\n",
    "X_sub = np.random.rand(5, num_features) # 5 anime, 3 features\n",
    "\n",
    "Y_sub = Y[:5, :4]\n",
    "R_sub = R[:5, :4]\n",
    "\n",
    "\n",
    "\n",
    "Theta_sub = np.random.rand(4, num_features) # 4 users, 3 features\n",
    "params_sub = np.concatenate([X_sub.ravel(), Theta_sub.ravel()])\n",
    "\n",
    "\n",
    "cost_value = cost(params_sub, Y_sub, R_sub, num_features)"
   ]
  },
  {
   "cell_type": "code",
   "execution_count": 2619,
   "metadata": {},
   "outputs": [],
   "source": [
    "X = np.matrix(np.reshape(params[:num_anime * num_features], (num_anime, num_features)))\n",
    "Theta = np.matrix(np.reshape(params[num_anime * num_features:], (num_users, num_features)))\n"
   ]
  },
  {
   "cell_type": "markdown",
   "metadata": {},
   "source": [
    "Great, this matches what the exercise text said we're supposed to get.  Next we need to implement the gradient computations.  Just like we did with the neural networks implementation in exercise 4, we'll extend the cost function to also compute the gradients."
   ]
  },
  {
   "cell_type": "code",
   "execution_count": 2620,
   "metadata": {
    "collapsed": true
   },
   "outputs": [],
   "source": [
    "def cost(params, Y, R, num_features, learning_rate):\n",
    "    Y = np.matrix(Y)  # (1682, 943)\n",
    "    R = np.matrix(R)  # (1682, 943)\n",
    "    num_animes = Y.shape[0]\n",
    "    num_users = Y.shape[1]\n",
    "    \n",
    "    # reshape the parameter array into parameter matrices\n",
    "    X = np.matrix(np.reshape(params[:num_animes * num_features], (num_animes, num_features)))  # (1682, 10)\n",
    "    Theta = np.matrix(np.reshape(params[num_animes * num_features:], (num_users, num_features)))  # (943, 10)\n",
    "    \n",
    "    # initializations\n",
    "    J = 0\n",
    "    X_grad = np.zeros(X.shape)  # (1682, 10)\n",
    "    Theta_grad = np.zeros(Theta.shape)  # (943, 10)\n",
    "    \n",
    "    # compute the cost\n",
    "    error = np.multiply((X * Theta.T) - Y, R)  # (1682, 943)\n",
    "    squared_error = np.power(error, 2)  # (1682, 943)\n",
    "    J = (1. / 2) * np.sum(squared_error)\n",
    "    \n",
    "    # calculate the gradients\n",
    "    X_grad = error * Theta\n",
    "    Theta_grad = error.T * X\n",
    "    X_grad = (error * Theta) + (learning_rate * X)\n",
    "    Theta_grad = (error.T * X) + (learning_rate * Theta)\n",
    "\n",
    "    # unravel the gradient matrices into a single array\n",
    "    grad = np.concatenate((np.ravel(X_grad), np.ravel(Theta_grad)))\n",
    "    \n",
    "    return J, grad"
   ]
  },
  {
   "cell_type": "code",
   "execution_count": 2621,
   "metadata": {},
   "outputs": [
    {
     "name": "stdout",
     "output_type": "stream",
     "text": [
      "(1973, 6)\n",
      "(117, 6)\n"
     ]
    }
   ],
   "source": [
    "print(X.shape)\n",
    "print(Theta.shape)\n"
   ]
  },
  {
   "cell_type": "code",
   "execution_count": 2622,
   "metadata": {},
   "outputs": [],
   "source": [
    "# Ynorm = Y.copy()\n",
    "Ynorm = Y - mean_ratings.values.reshape(-1, 1) * R\n",
    "\n",
    "for anime_id in mean_ratings.index:\n",
    "    idx = np.where(pivot_ratings.index == anime_id)[0][0]\n",
    "    Ynorm[idx, R[idx, :] == 1] -= mean_ratings[anime_id]"
   ]
  },
  {
   "cell_type": "code",
   "execution_count": 2623,
   "metadata": {},
   "outputs": [
    {
     "name": "stdout",
     "output_type": "stream",
     "text": [
      "Number of anime (num_anime): 1973\n",
      "Number of users (num_users): 117\n",
      "Number of features (num_features): 6\n"
     ]
    }
   ],
   "source": [
    "# Once you have defined Y and R\n",
    "num_anime, num_users = Y.shape\n",
    "\n",
    "\n",
    "# Print values to check\n",
    "print(\"Number of anime (num_anime):\", num_anime)\n",
    "print(\"Number of users (num_users):\", num_users)\n",
    "print(\"Number of features (num_features):\", num_features)\n",
    "\n",
    "# Next comes the initialization of X and Theta\n",
    "X = np.random.rand(num_anime, num_features)\n",
    "Theta = np.random.rand(num_users, num_features)"
   ]
  },
  {
   "cell_type": "code",
   "execution_count": 2624,
   "metadata": {},
   "outputs": [
    {
     "name": "stdout",
     "output_type": "stream",
     "text": [
      "Params size: 12540\n"
     ]
    }
   ],
   "source": [
    "params = np.concatenate([X.ravel(), Theta.ravel()])\n",
    "\n",
    "# Checking params size\n",
    "print(\"Params size:\", params.shape[0])\n"
   ]
  },
  {
   "cell_type": "code",
   "execution_count": 2625,
   "metadata": {},
   "outputs": [
    {
     "name": "stdout",
     "output_type": "stream",
     "text": [
      "Best learning_rate: 0.01\n"
     ]
    }
   ],
   "source": [
    "best_learning_rate = None\n",
    "best_cost = float('inf')\n",
    "\n",
    "for lr in learning_rates:\n",
    "    params = np.concatenate([X.ravel(), Theta.ravel()])  # Re-initializing parameters\n",
    "    fmin = minimize(fun=cost, x0=params, args=(Ynorm, R, num_features , lr), \n",
    "                    method='CG', jac=True, options={'maxiter': 100})\n",
    "\n",
    "    \n",
    "    if fmin.fun < best_cost:\n",
    "        best_cost = fmin.fun\n",
    "        best_learning_rate = lr\n",
    "\n",
    "print(\"Best learning_rate:\", best_learning_rate)\n"
   ]
  },
  {
   "cell_type": "code",
   "execution_count": 2626,
   "metadata": {
    "collapsed": false
   },
   "outputs": [
    {
     "data": {
      "text/plain": [
       "(0.0,\n",
       " array([5.49534539e-04, 1.76613693e-03, 5.48719606e-03, 4.81067191e-03,\n",
       "        4.58520184e-04, 7.25242802e-05, 9.88067942e-03, 6.58834700e-03,\n",
       "        3.65406131e-03, 4.70432248e-03, 2.66550120e-03, 3.44873784e-03,\n",
       "        6.49044467e-03, 8.82811799e-03, 1.84130023e-03, 8.40361505e-03,\n",
       "        1.21556630e-03, 2.14992224e-03, 3.71752880e-04, 1.40811862e-03,\n",
       "        9.17303145e-03, 4.59438747e-03, 7.76658618e-04, 9.59726838e-03,\n",
       "        8.78992308e-03, 7.54682521e-03, 9.33472792e-03, 2.20129421e-03,\n",
       "        8.36369293e-03, 6.89991196e-03, 8.69759250e-03, 7.96911566e-03,\n",
       "        3.46495063e-03, 7.74398537e-03, 2.62456303e-03, 3.28592163e-03,\n",
       "        1.07905717e-03, 9.35076616e-03, 2.91003363e-03, 5.20622465e-03,\n",
       "        3.91332836e-03, 9.59928121e-03, 3.35049171e-03, 7.78545821e-03,\n",
       "        8.55416155e-03, 4.35606497e-03, 3.78171814e-03, 7.47745821e-03,\n",
       "        9.12895980e-03, 7.54931733e-03, 2.27126366e-03, 8.88307747e-03,\n",
       "        3.87581667e-03, 5.76229412e-03]))"
      ]
     },
     "execution_count": 2626,
     "metadata": {},
     "output_type": "execute_result"
    }
   ],
   "source": [
    "J, grad = cost(params_sub, Y_sub, R_sub, num_features, best_learning_rate)\n",
    "\n",
    "\n",
    "J, grad"
   ]
  },
  {
   "cell_type": "markdown",
   "metadata": {},
   "source": [
    "Our next step is to add regularization to both the cost and gradient calculations.  We'll create one final regularized version of the function (note that this version includes an additional \"learning rate\" parameter, called \"lambda\" in the text)."
   ]
  },
  {
   "cell_type": "code",
   "execution_count": 2627,
   "metadata": {
    "collapsed": true
   },
   "outputs": [],
   "source": [
    "def cost(params, Y, R, num_features, learning_rate):\n",
    "    \n",
    "    Y = np.matrix(Y)  # (1682, 943)\n",
    "    R = np.matrix(R)  # (1682, 943)\n",
    "    num_animes = Y.shape[0]\n",
    "    num_users = Y.shape[1]\n",
    "\n",
    "    # reshape the parameter array into parameter matrices\n",
    "    X = np.matrix(np.reshape(params[:num_animes * num_features], (num_animes, num_features)))  # (1682, 10)\n",
    "    Theta = np.matrix(np.reshape(params[num_animes * num_features:], (num_users, num_features)))  # (943, 10)\n",
    "    \n",
    "    # initializations\n",
    "    J = 0\n",
    "    X_grad = np.zeros(X.shape)  # (1682, 10)\n",
    "    Theta_grad = np.zeros(Theta.shape)  # (943, 10)\n",
    "    \n",
    "    # compute the cost\n",
    "    error = np.multiply((X * Theta.T) - Y, R)  # (1682, 943)\n",
    "    squared_error = np.power(error, 2)  # (1682, 943)\n",
    "    J = (1. / 2) * np.sum(squared_error)\n",
    "    \n",
    "    # add the cost regularization\n",
    "    J = J + ((learning_rate / 2) * np.sum(np.power(Theta, 2)))\n",
    "    J = J + ((learning_rate / 2) * np.sum(np.power(X, 2)))\n",
    "\n",
    "\n",
    "    # calculate the gradients with regularization\n",
    "    X_grad = (error * Theta) + (learning_rate * X)\n",
    "    Theta_grad = (error.T * X) + (learning_rate * Theta)\n",
    "    \n",
    "    # unravel the gradient matrices into a single array\n",
    "    grad = np.concatenate((np.ravel(X_grad), np.ravel(Theta_grad)))\n",
    "    \n",
    "    return J, grad"
   ]
  },
  {
   "cell_type": "code",
   "execution_count": 2628,
   "metadata": {
    "collapsed": false
   },
   "outputs": [
    {
     "data": {
      "text/plain": [
       "(0.09818488440164494,\n",
       " array([5.49534539e-04, 1.76613693e-03, 5.48719606e-03, 4.81067191e-03,\n",
       "        4.58520184e-04, 7.25242802e-05, 9.88067942e-03, 6.58834700e-03,\n",
       "        3.65406131e-03, 4.70432248e-03, 2.66550120e-03, 3.44873784e-03,\n",
       "        6.49044467e-03, 8.82811799e-03, 1.84130023e-03, 8.40361505e-03,\n",
       "        1.21556630e-03, 2.14992224e-03, 3.71752880e-04, 1.40811862e-03,\n",
       "        9.17303145e-03, 4.59438747e-03, 7.76658618e-04, 9.59726838e-03,\n",
       "        8.78992308e-03, 7.54682521e-03, 9.33472792e-03, 2.20129421e-03,\n",
       "        8.36369293e-03, 6.89991196e-03, 8.69759250e-03, 7.96911566e-03,\n",
       "        3.46495063e-03, 7.74398537e-03, 2.62456303e-03, 3.28592163e-03,\n",
       "        1.07905717e-03, 9.35076616e-03, 2.91003363e-03, 5.20622465e-03,\n",
       "        3.91332836e-03, 9.59928121e-03, 3.35049171e-03, 7.78545821e-03,\n",
       "        8.55416155e-03, 4.35606497e-03, 3.78171814e-03, 7.47745821e-03,\n",
       "        9.12895980e-03, 7.54931733e-03, 2.27126366e-03, 8.88307747e-03,\n",
       "        3.87581667e-03, 5.76229412e-03]))"
      ]
     },
     "execution_count": 2628,
     "metadata": {},
     "output_type": "execute_result"
    }
   ],
   "source": [
    "\n",
    "J, grad = cost(params_sub, Y_sub, R_sub, num_features, best_learning_rate)\n",
    "\n",
    "J, grad"
   ]
  },
  {
   "cell_type": "markdown",
   "metadata": {},
   "source": [
    "This result again matches up with the expected output from the exercise code, so it looks like the regularization is working.  Before we train the model, we have one final step.  We're tasked with creating our own anime ratings so we can use the model to generate personalized recommendations.  A file is provided for us that links the anime index to its title.  Let's load the file into a dictionary."
   ]
  },
  {
   "cell_type": "code",
   "execution_count": 2629,
   "metadata": {
    "collapsed": false
   },
   "outputs": [],
   "source": [
    "anime_idx = pd.Series(anime_df.name.values, index=anime_df.anime_id).to_dict()\n"
   ]
  },
  {
   "cell_type": "code",
   "execution_count": 2630,
   "metadata": {},
   "outputs": [
    {
     "name": "stdout",
     "output_type": "stream",
     "text": [
      "Fruits Basket\n"
     ]
    }
   ],
   "source": [
    "# Let's say you want to find an anime title with ID 123\n",
    "anime_id_to_find = 120\n",
    "\n",
    "# Getting the name of an anime by its ID\n",
    "anime_name = anime_idx.get(anime_id_to_find, \"Anime not found\")\n",
    "print(anime_name)\n"
   ]
  },
  {
   "cell_type": "code",
   "execution_count": 2631,
   "metadata": {
    "collapsed": false
   },
   "outputs": [
    {
     "data": {
      "text/plain": [
       "'Cowboy Bebop'"
      ]
     },
     "execution_count": 2631,
     "metadata": {},
     "output_type": "execute_result"
    }
   ],
   "source": [
    "anime_idx[1]"
   ]
  },
  {
   "cell_type": "markdown",
   "metadata": {},
   "source": [
    "We can add our own ratings vector to the existing data set to include in the model."
   ]
  },
  {
   "cell_type": "code",
   "execution_count": 2632,
   "metadata": {},
   "outputs": [],
   "source": [
    "pivot_ratings = ratings_df.pivot(index='anime_id', columns='user_id', values='rating').fillna(0)\n",
    "Y = pivot_ratings.to_numpy()\n",
    "R = np.where(Y > 0, 1, 0)\n"
   ]
  },
  {
   "cell_type": "code",
   "execution_count": 2633,
   "metadata": {
    "collapsed": false
   },
   "outputs": [
    {
     "data": {
      "text/plain": [
       "((2402, 123), (2402, 123), (1973, 1))"
      ]
     },
     "execution_count": 2633,
     "metadata": {},
     "output_type": "execute_result"
    }
   ],
   "source": [
    "Y.shape, R.shape, ratings.shape"
   ]
  },
  {
   "cell_type": "markdown",
   "metadata": {},
   "source": [
    "We're not just about ready to train the collaborative filtering model.  We just need to define some variables and normalize the ratings."
   ]
  },
  {
   "cell_type": "code",
   "execution_count": 2634,
   "metadata": {},
   "outputs": [
    {
     "name": "stdout",
     "output_type": "stream",
     "text": [
      "size size: (2402, 123)\n",
      "R size: (2402, 123)\n",
      "X size: (2402, 6)\n",
      "Theta size: (123, 6)\n"
     ]
    }
   ],
   "source": [
    "num_anime, num_users = Y.shape # Initial dimensions\n",
    "\n",
    "# Initialize X and Theta taking into account the dimensions of Y and R\n",
    "X = np.random.rand(num_anime, num_features)\n",
    "Theta = np.random.rand(num_users, num_features)\n",
    "\n",
    "# Checking dimensions\n",
    "print(\"size size:\", Y.shape)\n",
    "print(\"R size:\", R.shape)\n",
    "print(\"X size:\", X.shape)\n",
    "print(\"Theta size:\", Theta.shape)\n"
   ]
  },
  {
   "cell_type": "code",
   "execution_count": 2635,
   "metadata": {},
   "outputs": [
    {
     "name": "stdout",
     "output_type": "stream",
     "text": [
      "params size: 15150\n"
     ]
    }
   ],
   "source": [
    "# Initialization\n",
    "params = np.concatenate([X.ravel(), Theta.ravel()])\n",
    "\n",
    "# Check size\n",
    "print(\"params size:\", params.shape[0]) # Should be 6270\n",
    "\n",
    "# Split params back into X and Theta\n",
    "X = np.reshape(params[:num_anime * num_features], (num_anime, num_features))\n",
    "Theta = np.reshape(params[num_anime * num_features:], (num_users, num_features))"
   ]
  },
  {
   "cell_type": "code",
   "execution_count": 2636,
   "metadata": {},
   "outputs": [
    {
     "name": "stdout",
     "output_type": "stream",
     "text": [
      "Y size: (2402, 123)\n",
      "Size R: (2402, 123)\n",
      "Y and R dimensions are correct.\n",
      "Size X: (2402, 6)\n",
      "Theta size: (123, 6)\n",
      "X and Theta dimensions are correct.\n"
     ]
    }
   ],
   "source": [
    "print(\"Y size:\", Y.shape)\n",
    "print(\"Size R:\", R.shape)\n",
    "\n",
    "# Checking if the Y and R dimensions match the expected dimensions\n",
    "if Y.shape == (num_anime, num_users) and R.shape == (num_anime, num_users):\n",
    "     print(\"Y and R dimensions are correct.\")\n",
    "else:\n",
    "     print(\"Y and R dimensions are incorrect.\")\n",
    "\n",
    "# Initialize X and Theta with expected sizes\n",
    "X = np.random.rand(num_anime, num_features)\n",
    "Theta = np.random.rand(num_users, num_features)\n",
    "\n",
    "# Checking X and Theta sizes\n",
    "print(\"Size X:\", X.shape)\n",
    "print(\"Theta size:\", Theta.shape)\n",
    "\n",
    "# Checking if the X and Theta sizes match the expected sizes\n",
    "if X.shape == (num_anime, num_features) and Theta.shape == (num_users, num_features):\n",
    "     print(\"X and Theta dimensions are correct.\")\n",
    "else:\n",
    "     print(\"X and Theta dimensions are incorrect.\")"
   ]
  },
  {
   "cell_type": "code",
   "execution_count": 2637,
   "metadata": {},
   "outputs": [
    {
     "name": "stdout",
     "output_type": "stream",
     "text": [
      "Y_sub size: (2402, 123)\n",
      "Size R_sub: (2402, 123)\n"
     ]
    }
   ],
   "source": [
    "# Trim Y and R to X and Theta sizes\n",
    "Y_sub = Y[:2402, :123]\n",
    "R_sub = R[:2402, :123]\n",
    "\n",
    "# Checking dimensions\n",
    "print(\"Y_sub size:\", Y_sub.shape)\n",
    "print(\"Size R_sub:\", R_sub.shape)"
   ]
  },
  {
   "cell_type": "code",
   "execution_count": 2638,
   "metadata": {
    "collapsed": false
   },
   "outputs": [],
   "source": [
    "from scipy.optimize import minimize\n",
    "\n",
    "# Assuming Y_sub and R_sub are truncated matrices\n",
    "learning_rates = [0.01, 0.1, 1, 10] # list of possible values\n",
    "for lr in learning_rates:\n",
    "     fmin = minimize(fun=cost, x0=params, args=(Y, R, num_features, lr),\n",
    "                     method='CG', jac=True, options={'maxiter': 100})\n",
    "     # Process fmin results\n",
    "fmin\n",
    "\n",
    "\n",
    "# Split parameters back into X and Theta\n",
    "X = np.reshape(fmin.x[:2402 * num_features], (2402, num_features))\n",
    "Theta = np.reshape(fmin.x[2402 * num_features:], (123, num_features))"
   ]
  },
  {
   "cell_type": "code",
   "execution_count": 2639,
   "metadata": {},
   "outputs": [],
   "source": [
    "# Make sure Ymean is the correct size\n",
    "Ymean = np.mean(Y, axis=1)\n",
    "\n",
    "# Calculation of forecasts\n",
    "predictions = X @ Theta.T # Use @ for matrix multiplication\n",
    "\n",
    "# Make sure Ymean and predictions are compatible in size\n",
    "if Ymean.shape[0] != predictions.shape[0]:\n",
    "     raise ValueError(\"The dimensions of Ymean and predictions do not match\")\n",
    "\n"
   ]
  },
  {
   "cell_type": "code",
   "execution_count": 2640,
   "metadata": {},
   "outputs": [],
   "source": [
    "for i in range(animes):\n",
    "    idx = np.where(R[i, :] == 1)[0]\n",
    "    if len(idx) > 0:\n",
    "        Ymean[i] = Y[i, idx].mean()\n",
    "    else:\n",
    "        Ymean[i] = 0 "
   ]
  },
  {
   "cell_type": "code",
   "execution_count": 2641,
   "metadata": {},
   "outputs": [],
   "source": [
    "# Ensure that the dimensions are correct\n",
    "num_anime, num_features = X.shape\n",
    "num_users = Theta.shape[0]\n",
    "\n",
    "# Reshape the parameters from the optimization result\n",
    "X = np.reshape(fmin.x[:num_anime * num_features], (num_anime, num_features))\n",
    "Theta = np.reshape(fmin.x[num_anime * num_features:], (num_users, num_features))\n",
    "\n",
    "# Calculate predictions\n",
    "predictions = X @ Theta.T  # Using @ for matrix multiplication\n",
    "\n",
    "# Add the mean back to get the actual ratings prediction\n",
    "my_preds = predictions[:, -1] + Ymean\n",
    "\n",
    "# Sort and get top recommendations\n",
    "sorted_indices = np.argsort(my_preds, axis=0)[::-1]\n",
    "top_indices = sorted_indices[:10].flatten()\n"
   ]
  },
  {
   "cell_type": "code",
   "execution_count": 2642,
   "metadata": {
    "collapsed": false
   },
   "outputs": [
    {
     "data": {
      "text/plain": [
       "((2402, 6), (123, 6))"
      ]
     },
     "execution_count": 2642,
     "metadata": {},
     "output_type": "execute_result"
    }
   ],
   "source": [
    "X.shape, Theta.shape"
   ]
  },
  {
   "cell_type": "markdown",
   "metadata": {},
   "source": [
    "Our trained parameters are now in X and Theta.  We can use these to create some recommendations for the user we added."
   ]
  },
  {
   "cell_type": "code",
   "execution_count": 2643,
   "metadata": {
    "collapsed": false
   },
   "outputs": [
    {
     "data": {
      "text/plain": [
       "(2402, 123)"
      ]
     },
     "execution_count": 2643,
     "metadata": {},
     "output_type": "execute_result"
    }
   ],
   "source": [
    "# Adding average rating back to predictions\n",
    "if len(mean_ratings) != Y.shape[0]:\n",
    "     mean_ratings_revised = np.zeros(Y.shape[0])\n",
    "     for i, anime_id in enumerate(pivot_ratings.index):\n",
    "         mean_ratings_revised[i] = np.mean(mean_ratings.values)\n",
    "\n",
    "     # Now mean_ratings_revised is the correct size for denormalization\n",
    "     my_preds = predictions-5 + mean_ratings_revised[:, np.newaxis]\n",
    "else:\n",
    "     my_preds = predictions-5 + mean_ratings.values.reshape(-1, 1)\n",
    "\n",
    "my_preds.shape"
   ]
  },
  {
   "cell_type": "code",
   "execution_count": 2644,
   "metadata": {
    "collapsed": false
   },
   "outputs": [
    {
     "data": {
      "text/plain": [
       "array([[ 9.38193046,  5.64200382, 12.47387517, ..., 11.65205423,\n",
       "        14.24743424, 14.60507035],\n",
       "       [ 8.68090069,  5.37431883, 12.21632491, ..., 11.24609152,\n",
       "        13.70689243, 13.6757093 ],\n",
       "       [ 8.64979187,  5.3677693 , 11.95448492, ..., 11.13335864,\n",
       "        13.63483099, 13.48785962],\n",
       "       ...,\n",
       "       [ 8.21695584,  5.25609537, 11.57622499, ..., 10.81014208,\n",
       "        13.25685318, 13.02761765],\n",
       "       [ 8.21663798,  5.25085794, 11.56568636, ..., 10.77467602,\n",
       "        13.02278544, 13.01539401],\n",
       "       [ 8.19202385,  5.24649128, 11.56556326, ..., 10.75936452,\n",
       "        12.95760363, 12.96663823]])"
      ]
     },
     "execution_count": 2644,
     "metadata": {},
     "output_type": "execute_result"
    }
   ],
   "source": [
    "sorted_preds = np.sort(my_preds, axis=0)[::-1]\n",
    "sorted_preds[:10]"
   ]
  },
  {
   "cell_type": "markdown",
   "metadata": {},
   "source": [
    "That gives us an ordered list of the top ratings, but we lost what index those ratings are for.  We actually need to use argsort so we know what anime the predicted rating corresponds to."
   ]
  },
  {
   "cell_type": "code",
   "execution_count": 2645,
   "metadata": {
    "collapsed": false
   },
   "outputs": [
    {
     "data": {
      "text/plain": [
       "array([[1431,  901,  901, ...,  901,  832,  832],\n",
       "       [ 528, 1025, 1216, ...,  237,  237,   18],\n",
       "       [   9,  237,  119, ..., 1435, 1265, 1654],\n",
       "       ...,\n",
       "       [ 991, 2266, 1310, ..., 2266, 1338,   93],\n",
       "       [ 752,  219,  991, ...,  991, 2347,  613],\n",
       "       [ 219,  991,  219, ...,  219,  219, 1430]], dtype=int64)"
      ]
     },
     "execution_count": 2645,
     "metadata": {},
     "output_type": "execute_result"
    }
   ],
   "source": [
    "idx = np.argsort(my_preds, axis=0)[::-1]\n",
    "idx"
   ]
  },
  {
   "cell_type": "code",
   "execution_count": 2646,
   "metadata": {},
   "outputs": [
    {
     "name": "stdout",
     "output_type": "stream",
     "text": [
      "Top 10 recommendations:\n",
      "Recommended anime: Sword Art Online with predicted rating 9.38\n",
      "Recommended anime: Death Note with predicted rating 8.68\n",
      "Recommended anime: Naruto with predicted rating 8.65\n",
      "Recommended anime: Angel Beats! with predicted rating 8.46\n",
      "Recommended anime: Fullmetal Alchemist: Brotherhood with predicted rating 8.26\n",
      "Recommended anime: Highschool of the Dead with predicted rating 8.26\n",
      "Recommended anime: Mushishi with predicted rating 8.22\n",
      "Recommended anime: High School DxD with predicted rating 8.22\n",
      "Recommended anime: Kaichou wa Maid-sama! with predicted rating 8.22\n",
      "Recommended anime: Kuroko no Basket with predicted rating 8.19\n"
     ]
    }
   ],
   "source": [
    "# Получение индексов наиболее рекомендуемых аниме\n",
    "top_indices = np.argsort(my_preds, axis=0)[::-1][:10, 0]\n",
    "\n",
    "print(\"Top 10 recommendations:\")\n",
    "for i in top_indices:\n",
    "    anime_id = pivot_ratings.index[i]\n",
    "    print('Recommended anime: {} with predicted rating {:.2f}'.format(anime_idx[anime_id], my_preds[i, 0]))\n"
   ]
  },
  {
   "cell_type": "markdown",
   "metadata": {},
   "source": [
    "The recommended animes don't actually line up that well with what's in the exercise text.  The reason why isn't too clear and I haven't found anything to account for it.  If you spot a mistake somewhere, please let me know.  Even if there's some minor difference or a step in the original exercise that I missed, the bulk of the example is accurate.\n",
    "\n",
    "That concludes the exercise and this notebook series!  I hope you learned as much as I did.  Thanks for reading."
   ]
  }
 ],
 "metadata": {
  "kernelspec": {
   "display_name": "base",
   "language": "python",
   "name": "python3"
  },
  "language_info": {
   "codemirror_mode": {
    "name": "ipython",
    "version": 3
   },
   "file_extension": ".py",
   "mimetype": "text/x-python",
   "name": "python",
   "nbconvert_exporter": "python",
   "pygments_lexer": "ipython3",
   "version": "3.9.13"
  }
 },
 "nbformat": 4,
 "nbformat_minor": 0
}
