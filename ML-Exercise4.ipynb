{
 "cells": [
  {
   "cell_type": "markdown",
   "metadata": {},
   "source": [
    "This notebook covers a Python-based solution for the fourth programming exercise of the machine learning class on Coursera.  Please refer to the [exercise text](https://github.com/jdwittenauer/ipython-notebooks/blob/master/exercises/ML/ex4.pdf) for detailed descriptions and equations."
   ]
  },
  {
   "cell_type": "markdown",
   "metadata": {},
   "source": [
    "# Machine Learning Exercise 4 - Neural Networks"
   ]
  },
  {
   "cell_type": "markdown",
   "metadata": {},
   "source": [
    "In this exercise, we'll be working with a dataset to predict student performance using a feed-forward neural network with backpropagation.  We'll implement un-regularized and regularized versions of the neural network cost function and gradient computation via the backpropagation algorithm.  We'll also implement random weight initialization and a method to use the network to make predictions.\n",
    "\n",
    "Since the data set is the same one we used in exercise 3, we'll re-use the code to load the data."
   ]
  },
  {
   "cell_type": "markdown",
   "metadata": {},
   "source": [
    "Since we're going to need these later (and will use them often), let's create some useful variables up-front."
   ]
  },
  {
   "cell_type": "code",
   "execution_count": 84,
   "metadata": {},
   "outputs": [],
   "source": [
    "import numpy as np\n",
    "import pandas as pd\n",
    "from sklearn.preprocessing import LabelEncoder, LabelBinarizer\n",
    "from scipy.optimize import minimize"
   ]
  },
  {
   "cell_type": "code",
   "execution_count": 85,
   "metadata": {
    "collapsed": false
   },
   "outputs": [
    {
     "name": "stdout",
     "output_type": "stream",
     "text": [
      "<class 'pandas.core.frame.DataFrame'>\n",
      "RangeIndex: 499 entries, 0 to 498\n",
      "Data columns (total 6 columns):\n",
      " #   Column                            Non-Null Count  Dtype  \n",
      "---  ------                            --------------  -----  \n",
      " 0   Hours_Studied                     499 non-null    int64  \n",
      " 1   Previous_Scores                   499 non-null    int64  \n",
      " 2   Extracurricular_Activities        499 non-null    object \n",
      " 3   Sleep_Hours                       499 non-null    int64  \n",
      " 4   Sample_Question_Papers_Practiced  499 non-null    int64  \n",
      " 5   Performance_Index                 499 non-null    float64\n",
      "dtypes: float64(1), int64(4), object(1)\n",
      "memory usage: 23.5+ KB\n"
     ]
    }
   ],
   "source": [
    "# Load the data\n",
    "data = pd.read_csv('Student_Performance.csv')\n",
    "label_encoder = LabelEncoder()\n",
    "\n",
    "data.info()\n"
   ]
  },
  {
   "cell_type": "code",
   "execution_count": 86,
   "metadata": {},
   "outputs": [
    {
     "data": {
      "text/plain": [
       "((499, 5), (499, 10))"
      ]
     },
     "execution_count": 86,
     "metadata": {},
     "output_type": "execute_result"
    }
   ],
   "source": [
    "data['Extracurricular_Activities'] = label_encoder.fit_transform(data['Extracurricular_Activities'])\n",
    "# Define X and y\n",
    "X = data.drop('Performance_Index', axis=1).values\n",
    "label_binarizer = LabelBinarizer()\n",
    "y = label_binarizer.fit_transform(data['Sample_Question_Papers_Practiced'])\n",
    "\n",
    "\n",
    "X.shape, y.shape\n"
   ]
  },
  {
   "cell_type": "markdown",
   "metadata": {},
   "source": [
    "We're also going to need to one-hot encode our y labels.  One-hot encoding turns a class label n (out of k classes) into a vector of length k where index n is \"hot\" (1) while the rest are zero.  Scikit-learn has a built in utility we can use for this."
   ]
  },
  {
   "cell_type": "markdown",
   "metadata": {},
   "source": [
    "The neural network for this exercise will have an input layer sized according to the features in our dataset, a hidden layer with a customizable number of units, and an output layer designed for classification. For additional details and an image of the network architecture, please refer to the PDF in the \"exercises\" folder.\n",
    "\n",
    "The first piece we need to implement is a cost function to evaluate the loss for a given set of network parameters.  The source mathematical function is in the exercise text (and looks pretty intimidating).  Here are the functions required to compute the cost."
   ]
  },
  {
   "cell_type": "code",
   "execution_count": 87,
   "metadata": {
    "collapsed": true
   },
   "outputs": [],
   "source": [
    "def sigmoid(z):\n",
    "    return 1 / (1 + np.exp(-z))"
   ]
  },
  {
   "cell_type": "code",
   "execution_count": 88,
   "metadata": {
    "collapsed": true
   },
   "outputs": [],
   "source": [
    "def forward_propagate(X, theta1, theta2):\n",
    "    m = X.shape[0]\n",
    "    \n",
    "    a1 = np.insert(X, 0, values=np.ones(m), axis=1)\n",
    "    z2 = np.dot(a1, theta1.T)\n",
    "    a2 = np.insert(sigmoid(z2), 0, values=np.ones(m), axis=1)\n",
    "    z3 = np.dot(a2, theta2.T)\n",
    "    h = sigmoid(z3)\n",
    "    \n",
    "    return a1, z2, a2, z3, h\n",
    "\n"
   ]
  },
  {
   "cell_type": "code",
   "execution_count": 89,
   "metadata": {
    "collapsed": true
   },
   "outputs": [],
   "source": [
    "def cost(params, input_size, hidden_size, num_labels, X, y, learning_rate):\n",
    "    m = X.shape[0]\n",
    "    X = np.matrix(X)\n",
    "    y = np.matrix(y)\n",
    "    \n",
    "    # reshape the parameter array into parameter matrices for each layer\n",
    "    theta1 = np.matrix(np.reshape(params[:hidden_size * (input_size + 1)], (hidden_size, (input_size + 1))))\n",
    "    theta2 = np.matrix(np.reshape(params[hidden_size * (input_size + 1):], (num_labels, (hidden_size + 1))))\n",
    "    \n",
    "    # run the feed-forward pass\n",
    "    a1, z2, a2, z3, h = forward_propagate(X, theta1, theta2)\n",
    "    \n",
    "    # compute the cost\n",
    "    J = 0\n",
    "    for i in range(m):\n",
    "        first_term = np.multiply(-y[i,:], np.log(h[i,:]))\n",
    "        second_term = np.multiply((1 - y[i,:]), np.log(1 - h[i,:]))\n",
    "        J += np.sum(first_term - second_term)\n",
    "    \n",
    "    J = J / m\n",
    "    \n",
    "    return J"
   ]
  },
  {
   "cell_type": "markdown",
   "metadata": {},
   "source": [
    "We've used the sigmoid function before so that's not new.  The forward-propagate function computes the hypothesis for each training instance given the current parameters.  It's output shape should match the same of our one-hot encoding for y.  We can test this real quick to convince ourselves that it's working as expected (the intermediate steps are also returned as these will be useful later)."
   ]
  },
  {
   "cell_type": "code",
   "execution_count": 90,
   "metadata": {
    "collapsed": false
   },
   "outputs": [
    {
     "data": {
      "text/plain": [
       "((25, 6), (10, 26))"
      ]
     },
     "execution_count": 90,
     "metadata": {},
     "output_type": "execute_result"
    }
   ],
   "source": [
    "# initial setup\n",
    "input_size = X.shape[1]  # This will now adjust based on your data\n",
    "hidden_size = 25  # You can adjust this if needed\n",
    "num_labels = y.shape[1]   # Assuming you have  classes\n",
    "learning_rate = 0.1\n",
    "\n",
    "# randomly initialize a parameter array of the size of the full network's parameters\n",
    "\n",
    "params = (np.random.random(size=hidden_size * (input_size + 1) + num_labels * (hidden_size + 1)) - 0.5) * 0.25\n",
    "m = X.shape[0]\n",
    "X = np.matrix(X)\n",
    "y = np.matrix(y)\n",
    "\n",
    "# unravel the parameter array into parameter matrices for each layer\n",
    "theta1 = np.matrix(np.reshape(params[:hidden_size * (input_size + 1)], (hidden_size, (input_size + 1))))\n",
    "theta2 = np.matrix(np.reshape(params[hidden_size * (input_size + 1):], (num_labels, (hidden_size + 1))))\n",
    "\n",
    "theta1.shape, theta2.shape"
   ]
  },
  {
   "cell_type": "code",
   "execution_count": 91,
   "metadata": {
    "collapsed": false
   },
   "outputs": [
    {
     "data": {
      "text/plain": [
       "((499, 6), (499, 25), (499, 26), (499, 10), (499, 10))"
      ]
     },
     "execution_count": 91,
     "metadata": {},
     "output_type": "execute_result"
    }
   ],
   "source": [
    "a1, z2, a2, z3, h = forward_propagate(X, theta1, theta2)\n",
    "a1.shape, z2.shape, a2.shape, z3.shape, h.shape"
   ]
  },
  {
   "cell_type": "markdown",
   "metadata": {},
   "source": [
    "The cost function, after computing the hypothesis matrix h, applies the cost equation to compute the total error between y and h."
   ]
  },
  {
   "cell_type": "code",
   "execution_count": 92,
   "metadata": {
    "collapsed": false
   },
   "outputs": [
    {
     "data": {
      "text/plain": [
       "6.5713211367990825"
      ]
     },
     "execution_count": 92,
     "metadata": {},
     "output_type": "execute_result"
    }
   ],
   "source": [
    "cost(params, input_size, hidden_size, num_labels, X, y, learning_rate)"
   ]
  },
  {
   "cell_type": "markdown",
   "metadata": {},
   "source": [
    "Our next step is to add regularization to the cost function.  If you're following along in the exercise text and thought the last equation looked ugly, this one looks REALLY ugly.  It's actually not as complicated as it looks though - in fact, the regularization term is simply an addition to the cost we already computed.  Here's the revised cost function."
   ]
  },
  {
   "cell_type": "code",
   "execution_count": 93,
   "metadata": {
    "collapsed": true
   },
   "outputs": [],
   "source": [
    "def cost(params, input_size, hidden_size, num_labels, X, y, learning_rate):\n",
    "    m = X.shape[0]\n",
    "    X = np.matrix(X)\n",
    "    y = np.matrix(y)\n",
    "    \n",
    "    # reshape the parameter array into parameter matrices for each layer\n",
    "    theta1 = np.matrix(np.reshape(params[:hidden_size * (input_size + 1)], (hidden_size, (input_size + 1))))\n",
    "    theta2 = np.matrix(np.reshape(params[hidden_size * (input_size + 1):], (num_labels, (hidden_size + 1))))\n",
    "    \n",
    "    # run the feed-forward pass\n",
    "    a1, z2, a2, z3, h = forward_propagate(X, theta1, theta2)\n",
    "    \n",
    "    # compute the cost\n",
    "    J = 0\n",
    "    for i in range(m):\n",
    "        first_term = np.multiply(-y[i,:], np.log(h[i,:]))\n",
    "        second_term = np.multiply((1 - y[i,:]), np.log(1 - h[i,:]))\n",
    "        J += np.sum(first_term - second_term)\n",
    "    \n",
    "    J = J / m\n",
    "    \n",
    "    # add the cost regularization term\n",
    "    J += (float(learning_rate) / (2 * m)) * (np.sum(np.power(theta1[:,1:], 2)) + np.sum(np.power(theta2[:,1:], 2)))\n",
    "    \n",
    "    return J"
   ]
  },
  {
   "cell_type": "code",
   "execution_count": 94,
   "metadata": {
    "collapsed": false
   },
   "outputs": [
    {
     "data": {
      "text/plain": [
       "6.571509202982251"
      ]
     },
     "execution_count": 94,
     "metadata": {},
     "output_type": "execute_result"
    }
   ],
   "source": [
    "cost(params, input_size, hidden_size, num_labels, X, y, learning_rate)"
   ]
  },
  {
   "cell_type": "markdown",
   "metadata": {},
   "source": [
    "Next up is the backpropagation algorithm.  Backpropagation computes the parameter updates that will reduce the error of the network on the training data.  The first thing we need is a function that computes the gradient of the sigmoid function we created earlier."
   ]
  },
  {
   "cell_type": "code",
   "execution_count": 95,
   "metadata": {
    "collapsed": true
   },
   "outputs": [],
   "source": [
    "def sigmoid_gradient(z):\n",
    "    return np.multiply(sigmoid(z), (1 - sigmoid(z)))"
   ]
  },
  {
   "cell_type": "markdown",
   "metadata": {},
   "source": [
    "Now we're ready to implement backpropagation to compute the gradients.  Since the computations required for backpropagation are a superset of those required in the cost function, we're actually going to extend the cost function to also perform backpropagation and return both the cost and the gradients."
   ]
  },
  {
   "cell_type": "code",
   "execution_count": 96,
   "metadata": {
    "collapsed": true
   },
   "outputs": [],
   "source": [
    "def backprop(params, input_size, hidden_size, num_labels, X, y, learning_rate):\n",
    "    m = X.shape[0]\n",
    "    X = np.matrix(X)\n",
    "    y = np.matrix(y)\n",
    "    \n",
    "    # reshape the parameter array into parameter matrices for each layer\n",
    "    theta1 = np.matrix(np.reshape(params[:hidden_size * (input_size + 1)], (hidden_size, (input_size + 1))))\n",
    "    theta2 = np.matrix(np.reshape(params[hidden_size * (input_size + 1):], (num_labels, (hidden_size + 1))))\n",
    "    \n",
    "    # run the feed-forward pass\n",
    "    a1, z2, a2, z3, h = forward_propagate(X, theta1, theta2)\n",
    "    \n",
    "    # initializations\n",
    "    J = 0\n",
    "    delta1 = np.zeros(theta1.shape)  # (25, 401)\n",
    "    delta2 = np.zeros(theta2.shape)  # (10, 26)\n",
    "    \n",
    "    # compute the cost\n",
    "    for i in range(m):\n",
    "        first_term = np.multiply(-y[i,:], np.log(h[i,:]))\n",
    "        second_term = np.multiply((1 - y[i,:]), np.log(1 - h[i,:]))\n",
    "        J += np.sum(first_term - second_term)\n",
    "    \n",
    "    J = J / m\n",
    "    \n",
    "    # add the cost regularization term\n",
    "    J += (float(learning_rate) / (2 * m)) * (np.sum(np.power(theta1[:,1:], 2)) + np.sum(np.power(theta2[:,1:], 2)))\n",
    "    \n",
    "    # perform backpropagation\n",
    "    for t in range(m):\n",
    "        a1t = a1[t,:]  # (1, 401)\n",
    "        z2t = z2[t,:]  # (1, 25)\n",
    "        a2t = a2[t,:]  # (1, 26)\n",
    "        ht = h[t,:]  # (1, num_labels)\n",
    "        yt = y[t,:]  # (1, num_labels)\n",
    "        \n",
    "        d3t = ht - yt  # (1, 10)\n",
    "        \n",
    "        z2t = np.insert(z2t, 0, values=np.ones(1))  # (1, 26)\n",
    "        d2t = np.multiply((theta2.T * d3t.T).T, sigmoid_gradient(z2t))  # (1, 26)\n",
    "        \n",
    "        delta1 = delta1 + (d2t[:,1:]).T * a1t\n",
    "        delta2 = delta2 + d3t.T * a2t\n",
    "        \n",
    "    delta1 = delta1 / m\n",
    "    delta2 = delta2 / m\n",
    "    \n",
    "    # unravel the gradient matrices into a single array\n",
    "    grad = np.concatenate((np.ravel(delta1), np.ravel(delta2)))\n",
    "    \n",
    "    return J, grad"
   ]
  },
  {
   "cell_type": "markdown",
   "metadata": {},
   "source": [
    "The hardest part of the backprop computation (other than understanding WHY we're doing all these calculations) is getting the matrix dimensions right.  By the way, if you find it confusing when to use A * B vs. np.multiply(A, B), you're not alone.  Basically the former is a matrix multiplication and the latter is an element-wise multiplication (unless A or B is a scalar value, in which case it doesn't matter).  I wish there was a more concise syntax for this (maybe there is and I'm just not aware of it).\n",
    "\n",
    "Anyway, let's test it out to make sure the function returns what we're expecting it to."
   ]
  },
  {
   "cell_type": "code",
   "execution_count": 97,
   "metadata": {
    "collapsed": false
   },
   "outputs": [
    {
     "data": {
      "text/plain": [
       "(6.571509202982251, (410,))"
      ]
     },
     "execution_count": 97,
     "metadata": {},
     "output_type": "execute_result"
    }
   ],
   "source": [
    "J, grad = backprop(params, input_size, hidden_size, num_labels, X, y, learning_rate)\n",
    "J, grad.shape"
   ]
  },
  {
   "cell_type": "markdown",
   "metadata": {},
   "source": [
    "We still have one more modification to make to the backprop function - adding regularization to the gradient calculations.  The final regularized version is below."
   ]
  },
  {
   "cell_type": "code",
   "execution_count": 98,
   "metadata": {
    "collapsed": true
   },
   "outputs": [],
   "source": [
    "def backprop(params, input_size, hidden_size, num_labels, X, y, learning_rate):\n",
    "    m = X.shape[0]\n",
    "    X = np.matrix(X)\n",
    "    y = np.matrix(y)\n",
    "    \n",
    "    # reshape the parameter array into parameter matrices for each layer\n",
    "    theta1 = np.matrix(np.reshape(params[:hidden_size * (input_size + 1)], (hidden_size, (input_size + 1))))\n",
    "    theta2 = np.matrix(np.reshape(params[hidden_size * (input_size + 1):], (num_labels, (hidden_size + 1))))\n",
    "    \n",
    "    # run the feed-forward pass\n",
    "    a1, z2, a2, z3, h = forward_propagate(X, theta1, theta2)\n",
    "    \n",
    "    # initializations\n",
    "    J = 0\n",
    "    delta1 = np.zeros(theta1.shape)  # (25, 401)\n",
    "    delta2 = np.zeros(theta2.shape)  # (10, 26)\n",
    "    \n",
    "    # compute the cost\n",
    "    for i in range(m):\n",
    "        first_term = np.multiply(-y[i,:], np.log(h[i,:]))\n",
    "        second_term = np.multiply((1 - y[i,:]), np.log(1 - h[i,:]))\n",
    "        J += np.sum(first_term - second_term)\n",
    "    \n",
    "    J = J / m\n",
    "    \n",
    "    # add the cost regularization term\n",
    "    J += (float(learning_rate) / (2 * m)) * (np.sum(np.power(theta1[:,1:], 2)) + np.sum(np.power(theta2[:,1:], 2)))\n",
    "    \n",
    "    # perform backpropagation\n",
    "    for t in range(m):\n",
    "        a1t = a1[t,:]  # (1, 401)\n",
    "        z2t = z2[t,:]  # (1, 25)\n",
    "        a2t = a2[t,:]  # (1, 26)\n",
    "        ht = h[t,:]  # (1, 10)\n",
    "        yt = y[t,:]  # (1, 10)\n",
    "        \n",
    "        d3t = ht - yt  # (1, 10)\n",
    "        \n",
    "        z2t = np.insert(z2t, 0, values=np.ones(1))  # (1, 26)\n",
    "        d2t = np.multiply((theta2.T * d3t.T).T, sigmoid_gradient(z2t))  # (1, 26)\n",
    "        \n",
    "        delta1 = delta1 + (d2t[:,1:]).T * a1t\n",
    "        delta2 = delta2 + d3t.T * a2t\n",
    "        \n",
    "    delta1 = delta1 / m\n",
    "    delta2 = delta2 / m\n",
    "    \n",
    "    # add the gradient regularization term\n",
    "    delta1[:,1:] = delta1[:,1:] + (theta1[:,1:] * learning_rate) / m\n",
    "    delta2[:,1:] = delta2[:,1:] + (theta2[:,1:] * learning_rate) / m\n",
    "    \n",
    "    # unravel the gradient matrices into a single array\n",
    "    grad = np.concatenate((np.ravel(delta1), np.ravel(delta2)))\n",
    "    \n",
    "    return J, grad"
   ]
  },
  {
   "cell_type": "code",
   "execution_count": 99,
   "metadata": {
    "collapsed": false
   },
   "outputs": [
    {
     "data": {
      "text/plain": [
       "(6.571509202982251, (410,))"
      ]
     },
     "execution_count": 99,
     "metadata": {},
     "output_type": "execute_result"
    }
   ],
   "source": [
    "J, grad = backprop(params, input_size, hidden_size, num_labels, X, y, learning_rate)\n",
    "J, grad.shape"
   ]
  },
  {
   "cell_type": "markdown",
   "metadata": {},
   "source": [
    "We are now ready to train our neural network using the 'TNC' optimization method and then use it for making predictions.\n",
    "\n",
    "This is roughly similar to the previous exercise with multi-class logistic regression."
   ]
  },
  {
   "cell_type": "code",
   "execution_count": 100,
   "metadata": {
    "collapsed": false
   },
   "outputs": [
    {
     "name": "stderr",
     "output_type": "stream",
     "text": [
      "C:\\Users\\L\\AppData\\Local\\Temp\\ipykernel_3592\\3203356950.py:4: OptimizeWarning: Unknown solver options: maxiter\n",
      "  fmin = minimize(fun=backprop, x0=params, args=(input_size, hidden_size, num_labels, X, y, learning_rate),\n",
      "C:\\Users\\L\\AppData\\Local\\Temp\\ipykernel_3592\\3867835023.py:21: RuntimeWarning: divide by zero encountered in log\n",
      "  second_term = np.multiply((1 - y[i,:]), np.log(1 - h[i,:]))\n",
      "C:\\Users\\L\\AppData\\Local\\Temp\\ipykernel_3592\\3867835023.py:21: RuntimeWarning: invalid value encountered in multiply\n",
      "  second_term = np.multiply((1 - y[i,:]), np.log(1 - h[i,:]))\n"
     ]
    },
    {
     "data": {
      "text/plain": [
       " message: Linear search failed\n",
       " success: False\n",
       "  status: 4\n",
       "     fun: 1.650865200263948\n",
       "       x: [-6.490e-02 -6.492e-02 ... -3.860e-01 -3.898e-01]\n",
       "     nit: 34\n",
       "     jac: [-3.621e-06  1.212e-04 ... -6.180e-03 -6.181e-03]\n",
       "    nfev: 351"
      ]
     },
     "execution_count": 100,
     "metadata": {},
     "output_type": "execute_result"
    }
   ],
   "source": [
    "from scipy.optimize import minimize\n",
    "\n",
    "# minimize the objective function\n",
    "fmin = minimize(fun=backprop, x0=params, args=(input_size, hidden_size, num_labels, X, y, learning_rate), \n",
    "                method='TNC', jac=True, options={'maxiter': 250})\n",
    "fmin"
   ]
  },
  {
   "cell_type": "markdown",
   "metadata": {},
   "source": [
    "We put a bound on the number of iterations since the objective function is not likely to completely converge.  Our total cost has dropped below 0.5 though so that's a good indicator that the algorithm is working.  Let's use the parameters it found and forward-propagate them through the network to get some predictions."
   ]
  },
  {
   "cell_type": "code",
   "execution_count": 101,
   "metadata": {
    "collapsed": false
   },
   "outputs": [
    {
     "data": {
      "text/plain": [
       "array([[1],\n",
       "       [2],\n",
       "       [2],\n",
       "       [2],\n",
       "       [6],\n",
       "       [6],\n",
       "       [6],\n",
       "       [6],\n",
       "       [2],\n",
       "       [0],\n",
       "       [5],\n",
       "       [2],\n",
       "       [2],\n",
       "       [2],\n",
       "       [9],\n",
       "       [3],\n",
       "       [4],\n",
       "       [2],\n",
       "       [9],\n",
       "       [0],\n",
       "       [3],\n",
       "       [0],\n",
       "       [6],\n",
       "       [6],\n",
       "       [3],\n",
       "       [4],\n",
       "       [9],\n",
       "       [6],\n",
       "       [5],\n",
       "       [3],\n",
       "       [3],\n",
       "       [1],\n",
       "       [9],\n",
       "       [1],\n",
       "       [3],\n",
       "       [4],\n",
       "       [3],\n",
       "       [2],\n",
       "       [1],\n",
       "       [3],\n",
       "       [4],\n",
       "       [0],\n",
       "       [0],\n",
       "       [5],\n",
       "       [4],\n",
       "       [3],\n",
       "       [0],\n",
       "       [6],\n",
       "       [3],\n",
       "       [2],\n",
       "       [6],\n",
       "       [1],\n",
       "       [9],\n",
       "       [0],\n",
       "       [3],\n",
       "       [7],\n",
       "       [5],\n",
       "       [9],\n",
       "       [0],\n",
       "       [0],\n",
       "       [4],\n",
       "       [5],\n",
       "       [6],\n",
       "       [2],\n",
       "       [5],\n",
       "       [2],\n",
       "       [8],\n",
       "       [3],\n",
       "       [1],\n",
       "       [8],\n",
       "       [9],\n",
       "       [7],\n",
       "       [5],\n",
       "       [2],\n",
       "       [1],\n",
       "       [3],\n",
       "       [3],\n",
       "       [0],\n",
       "       [9],\n",
       "       [9],\n",
       "       [8],\n",
       "       [6],\n",
       "       [5],\n",
       "       [2],\n",
       "       [3],\n",
       "       [1],\n",
       "       [6],\n",
       "       [1],\n",
       "       [9],\n",
       "       [0],\n",
       "       [6],\n",
       "       [3],\n",
       "       [6],\n",
       "       [0],\n",
       "       [8],\n",
       "       [5],\n",
       "       [1],\n",
       "       [6],\n",
       "       [4],\n",
       "       [4],\n",
       "       [4],\n",
       "       [6],\n",
       "       [6],\n",
       "       [9],\n",
       "       [6],\n",
       "       [9],\n",
       "       [1],\n",
       "       [6],\n",
       "       [0],\n",
       "       [1],\n",
       "       [6],\n",
       "       [3],\n",
       "       [9],\n",
       "       [9],\n",
       "       [9],\n",
       "       [8],\n",
       "       [2],\n",
       "       [2],\n",
       "       [9],\n",
       "       [9],\n",
       "       [6],\n",
       "       [0],\n",
       "       [5],\n",
       "       [6],\n",
       "       [9],\n",
       "       [1],\n",
       "       [0],\n",
       "       [3],\n",
       "       [0],\n",
       "       [1],\n",
       "       [2],\n",
       "       [3],\n",
       "       [5],\n",
       "       [8],\n",
       "       [9],\n",
       "       [3],\n",
       "       [0],\n",
       "       [4],\n",
       "       [4],\n",
       "       [9],\n",
       "       [6],\n",
       "       [4],\n",
       "       [9],\n",
       "       [9],\n",
       "       [4],\n",
       "       [6],\n",
       "       [0],\n",
       "       [4],\n",
       "       [0],\n",
       "       [6],\n",
       "       [6],\n",
       "       [9],\n",
       "       [9],\n",
       "       [6],\n",
       "       [9],\n",
       "       [7],\n",
       "       [7],\n",
       "       [2],\n",
       "       [9],\n",
       "       [3],\n",
       "       [3],\n",
       "       [0],\n",
       "       [5],\n",
       "       [1],\n",
       "       [8],\n",
       "       [0],\n",
       "       [0],\n",
       "       [9],\n",
       "       [5],\n",
       "       [0],\n",
       "       [2],\n",
       "       [9],\n",
       "       [1],\n",
       "       [9],\n",
       "       [4],\n",
       "       [5],\n",
       "       [1],\n",
       "       [6],\n",
       "       [5],\n",
       "       [7],\n",
       "       [7],\n",
       "       [0],\n",
       "       [6],\n",
       "       [1],\n",
       "       [6],\n",
       "       [1],\n",
       "       [3],\n",
       "       [1],\n",
       "       [6],\n",
       "       [4],\n",
       "       [9],\n",
       "       [4],\n",
       "       [8],\n",
       "       [1],\n",
       "       [2],\n",
       "       [5],\n",
       "       [6],\n",
       "       [9],\n",
       "       [7],\n",
       "       [2],\n",
       "       [6],\n",
       "       [7],\n",
       "       [9],\n",
       "       [5],\n",
       "       [3],\n",
       "       [5],\n",
       "       [9],\n",
       "       [2],\n",
       "       [1],\n",
       "       [4],\n",
       "       [6],\n",
       "       [2],\n",
       "       [4],\n",
       "       [3],\n",
       "       [6],\n",
       "       [1],\n",
       "       [6],\n",
       "       [1],\n",
       "       [2],\n",
       "       [4],\n",
       "       [6],\n",
       "       [5],\n",
       "       [6],\n",
       "       [5],\n",
       "       [0],\n",
       "       [4],\n",
       "       [0],\n",
       "       [6],\n",
       "       [3],\n",
       "       [4],\n",
       "       [0],\n",
       "       [6],\n",
       "       [3],\n",
       "       [2],\n",
       "       [0],\n",
       "       [3],\n",
       "       [2],\n",
       "       [7],\n",
       "       [9],\n",
       "       [4],\n",
       "       [9],\n",
       "       [0],\n",
       "       [6],\n",
       "       [6],\n",
       "       [5],\n",
       "       [3],\n",
       "       [9],\n",
       "       [2],\n",
       "       [0],\n",
       "       [1],\n",
       "       [2],\n",
       "       [1],\n",
       "       [5],\n",
       "       [6],\n",
       "       [4],\n",
       "       [4],\n",
       "       [6],\n",
       "       [5],\n",
       "       [6],\n",
       "       [8],\n",
       "       [1],\n",
       "       [1],\n",
       "       [0],\n",
       "       [6],\n",
       "       [3],\n",
       "       [9],\n",
       "       [6],\n",
       "       [6],\n",
       "       [6],\n",
       "       [6],\n",
       "       [3],\n",
       "       [2],\n",
       "       [2],\n",
       "       [9],\n",
       "       [7],\n",
       "       [2],\n",
       "       [8],\n",
       "       [1],\n",
       "       [4],\n",
       "       [4],\n",
       "       [6],\n",
       "       [4],\n",
       "       [8],\n",
       "       [2],\n",
       "       [8],\n",
       "       [0],\n",
       "       [2],\n",
       "       [3],\n",
       "       [5],\n",
       "       [9],\n",
       "       [9],\n",
       "       [6],\n",
       "       [7],\n",
       "       [5],\n",
       "       [5],\n",
       "       [5],\n",
       "       [2],\n",
       "       [9],\n",
       "       [3],\n",
       "       [5],\n",
       "       [6],\n",
       "       [2],\n",
       "       [3],\n",
       "       [6],\n",
       "       [0],\n",
       "       [6],\n",
       "       [0],\n",
       "       [9],\n",
       "       [9],\n",
       "       [9],\n",
       "       [9],\n",
       "       [9],\n",
       "       [3],\n",
       "       [1],\n",
       "       [6],\n",
       "       [3],\n",
       "       [4],\n",
       "       [0],\n",
       "       [9],\n",
       "       [5],\n",
       "       [6],\n",
       "       [2],\n",
       "       [9],\n",
       "       [1],\n",
       "       [9],\n",
       "       [6],\n",
       "       [0],\n",
       "       [1],\n",
       "       [2],\n",
       "       [3],\n",
       "       [4],\n",
       "       [3],\n",
       "       [9],\n",
       "       [2],\n",
       "       [0],\n",
       "       [6],\n",
       "       [9],\n",
       "       [5],\n",
       "       [1],\n",
       "       [1],\n",
       "       [2],\n",
       "       [7],\n",
       "       [6],\n",
       "       [9],\n",
       "       [9],\n",
       "       [9],\n",
       "       [9],\n",
       "       [6],\n",
       "       [6],\n",
       "       [1],\n",
       "       [0],\n",
       "       [5],\n",
       "       [6],\n",
       "       [0],\n",
       "       [2],\n",
       "       [0],\n",
       "       [9],\n",
       "       [9],\n",
       "       [6],\n",
       "       [7],\n",
       "       [9],\n",
       "       [2],\n",
       "       [9],\n",
       "       [1],\n",
       "       [5],\n",
       "       [4],\n",
       "       [3],\n",
       "       [5],\n",
       "       [5],\n",
       "       [2],\n",
       "       [1],\n",
       "       [9],\n",
       "       [6],\n",
       "       [3],\n",
       "       [6],\n",
       "       [2],\n",
       "       [7],\n",
       "       [2],\n",
       "       [1],\n",
       "       [6],\n",
       "       [2],\n",
       "       [9],\n",
       "       [2],\n",
       "       [9],\n",
       "       [1],\n",
       "       [9],\n",
       "       [0],\n",
       "       [2],\n",
       "       [1],\n",
       "       [6],\n",
       "       [4],\n",
       "       [7],\n",
       "       [1],\n",
       "       [8],\n",
       "       [6],\n",
       "       [4],\n",
       "       [1],\n",
       "       [9],\n",
       "       [6],\n",
       "       [9],\n",
       "       [3],\n",
       "       [3],\n",
       "       [7],\n",
       "       [5],\n",
       "       [9],\n",
       "       [1],\n",
       "       [4],\n",
       "       [5],\n",
       "       [6],\n",
       "       [3],\n",
       "       [6],\n",
       "       [6],\n",
       "       [3],\n",
       "       [0],\n",
       "       [2],\n",
       "       [1],\n",
       "       [2],\n",
       "       [4],\n",
       "       [0],\n",
       "       [4],\n",
       "       [1],\n",
       "       [3],\n",
       "       [5],\n",
       "       [9],\n",
       "       [9],\n",
       "       [6],\n",
       "       [9],\n",
       "       [1],\n",
       "       [6],\n",
       "       [4],\n",
       "       [7],\n",
       "       [9],\n",
       "       [9],\n",
       "       [3],\n",
       "       [0],\n",
       "       [9],\n",
       "       [9],\n",
       "       [8],\n",
       "       [4],\n",
       "       [4],\n",
       "       [9],\n",
       "       [6],\n",
       "       [0],\n",
       "       [9],\n",
       "       [4],\n",
       "       [6],\n",
       "       [7],\n",
       "       [4],\n",
       "       [2],\n",
       "       [5],\n",
       "       [6],\n",
       "       [3],\n",
       "       [9],\n",
       "       [3],\n",
       "       [9],\n",
       "       [1],\n",
       "       [9],\n",
       "       [3],\n",
       "       [3],\n",
       "       [9],\n",
       "       [0],\n",
       "       [1],\n",
       "       [2],\n",
       "       [6],\n",
       "       [9],\n",
       "       [4],\n",
       "       [3],\n",
       "       [1],\n",
       "       [6],\n",
       "       [5],\n",
       "       [6],\n",
       "       [7],\n",
       "       [9],\n",
       "       [9],\n",
       "       [4],\n",
       "       [4],\n",
       "       [3],\n",
       "       [2],\n",
       "       [6],\n",
       "       [4],\n",
       "       [6],\n",
       "       [1],\n",
       "       [9],\n",
       "       [9],\n",
       "       [9],\n",
       "       [4],\n",
       "       [9],\n",
       "       [8],\n",
       "       [0],\n",
       "       [1],\n",
       "       [9],\n",
       "       [4],\n",
       "       [4],\n",
       "       [6],\n",
       "       [8],\n",
       "       [0],\n",
       "       [9],\n",
       "       [9],\n",
       "       [3]], dtype=int64)"
      ]
     },
     "execution_count": 101,
     "metadata": {},
     "output_type": "execute_result"
    }
   ],
   "source": [
    "X = np.matrix(X)\n",
    "theta1 = np.matrix(np.reshape(fmin.x[:hidden_size * (input_size + 1)], (hidden_size, (input_size + 1))))\n",
    "theta2 = np.matrix(np.reshape(fmin.x[hidden_size * (input_size + 1):], (num_labels, (hidden_size + 1))))\n",
    "\n",
    "a1, z2, a2, z3, h = forward_propagate(X, theta1, theta2)\n",
    "\n",
    "y_pred = np.array(np.argmax(h, axis=1))\n",
    "y_pred\n"
   ]
  },
  {
   "cell_type": "markdown",
   "metadata": {},
   "source": [
    "Finally we can compute the accuracy to see how well our trained network is doing."
   ]
  },
  {
   "cell_type": "code",
   "execution_count": 104,
   "metadata": {
    "collapsed": false
   },
   "outputs": [
    {
     "name": "stdout",
     "output_type": "stream",
     "text": [
      "accuracy = 84.77%\n"
     ]
    }
   ],
   "source": [
    "correct = [1 if a == b else 0 for (a, b) in zip(y_pred, np.argmax(y, axis=1))]\n",
    "accuracy = sum(correct) / len(correct)\n",
    "print('accuracy = {:.2f}%'.format(accuracy * 100))\n"
   ]
  },
  {
   "cell_type": "markdown",
   "metadata": {},
   "source": [
    "And we're done!  We've successfully implemented a rudimentary feed-forward neural network with backpropagation and used it to classify images of handwritten digits.  In the next exercise we'll look at another power supervised learning algorithm, support vector machines."
   ]
  }
 ],
 "metadata": {
  "kernelspec": {
   "display_name": "base",
   "language": "python",
   "name": "python3"
  },
  "language_info": {
   "codemirror_mode": {
    "name": "ipython",
    "version": 3
   },
   "file_extension": ".py",
   "mimetype": "text/x-python",
   "name": "python",
   "nbconvert_exporter": "python",
   "pygments_lexer": "ipython3",
   "version": "3.9.13"
  }
 },
 "nbformat": 4,
 "nbformat_minor": 0
}
