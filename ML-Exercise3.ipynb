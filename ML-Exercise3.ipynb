{
 "cells": [
  {
   "cell_type": "markdown",
   "metadata": {},
   "source": [
    "## Machine Learning Exercise 3 - Multi-Class Classification"
   ]
  },
  {
   "cell_type": "markdown",
   "metadata": {},
   "source": [
    "Importing necessary libraries and loading the dataset from a CSV file.\n",
    "Also, transforming the 'Extracurricular_Activities' column using label encoding."
   ]
  },
  {
   "cell_type": "code",
   "execution_count": 14,
   "metadata": {},
   "outputs": [
    {
     "data": {
      "text/html": [
       "<div>\n",
       "<style scoped>\n",
       "    .dataframe tbody tr th:only-of-type {\n",
       "        vertical-align: middle;\n",
       "    }\n",
       "\n",
       "    .dataframe tbody tr th {\n",
       "        vertical-align: top;\n",
       "    }\n",
       "\n",
       "    .dataframe thead th {\n",
       "        text-align: right;\n",
       "    }\n",
       "</style>\n",
       "<table border=\"1\" class=\"dataframe\">\n",
       "  <thead>\n",
       "    <tr style=\"text-align: right;\">\n",
       "      <th></th>\n",
       "      <th>Hours_Studied</th>\n",
       "      <th>Previous_Scores</th>\n",
       "      <th>Extracurricular_Activities</th>\n",
       "      <th>Sleep_Hours</th>\n",
       "      <th>Sample_Question_Papers_Practiced</th>\n",
       "      <th>Performance_Index</th>\n",
       "    </tr>\n",
       "  </thead>\n",
       "  <tbody>\n",
       "    <tr>\n",
       "      <th>0</th>\n",
       "      <td>7</td>\n",
       "      <td>99</td>\n",
       "      <td>1</td>\n",
       "      <td>9</td>\n",
       "      <td>1</td>\n",
       "      <td>91.0</td>\n",
       "    </tr>\n",
       "    <tr>\n",
       "      <th>1</th>\n",
       "      <td>4</td>\n",
       "      <td>82</td>\n",
       "      <td>0</td>\n",
       "      <td>4</td>\n",
       "      <td>2</td>\n",
       "      <td>65.0</td>\n",
       "    </tr>\n",
       "    <tr>\n",
       "      <th>2</th>\n",
       "      <td>8</td>\n",
       "      <td>51</td>\n",
       "      <td>1</td>\n",
       "      <td>7</td>\n",
       "      <td>2</td>\n",
       "      <td>45.0</td>\n",
       "    </tr>\n",
       "    <tr>\n",
       "      <th>3</th>\n",
       "      <td>5</td>\n",
       "      <td>52</td>\n",
       "      <td>1</td>\n",
       "      <td>5</td>\n",
       "      <td>2</td>\n",
       "      <td>36.0</td>\n",
       "    </tr>\n",
       "    <tr>\n",
       "      <th>4</th>\n",
       "      <td>7</td>\n",
       "      <td>75</td>\n",
       "      <td>0</td>\n",
       "      <td>8</td>\n",
       "      <td>5</td>\n",
       "      <td>66.0</td>\n",
       "    </tr>\n",
       "  </tbody>\n",
       "</table>\n",
       "</div>"
      ],
      "text/plain": [
       "   Hours_Studied  Previous_Scores  Extracurricular_Activities  Sleep_Hours  \\\n",
       "0              7               99                           1            9   \n",
       "1              4               82                           0            4   \n",
       "2              8               51                           1            7   \n",
       "3              5               52                           1            5   \n",
       "4              7               75                           0            8   \n",
       "\n",
       "   Sample_Question_Papers_Practiced  Performance_Index  \n",
       "0                                 1               91.0  \n",
       "1                                 2               65.0  \n",
       "2                                 2               45.0  \n",
       "3                                 2               36.0  \n",
       "4                                 5               66.0  "
      ]
     },
     "execution_count": 14,
     "metadata": {},
     "output_type": "execute_result"
    }
   ],
   "source": [
    "import numpy as np\n",
    "import pandas as pd\n",
    "from scipy.optimize import minimize\n",
    "from sklearn.preprocessing import LabelEncoder\n",
    "\n",
    "# Загрузка данных из CSV-файла\n",
    "data = pd.read_csv('Student_Performance.csv')\n",
    "label_encoder = LabelEncoder()\n",
    "data['Extracurricular_Activities'] = label_encoder.fit_transform(data['Extracurricular_Activities'])\n",
    "data.head()\n"
   ]
  },
  {
   "cell_type": "markdown",
   "metadata": {},
   "source": [
    "Defining a function to categorize performance levels based on the performance index.\n",
    "Applying this function to create a new column 'Performance Level' in the dataset."
   ]
  },
  {
   "cell_type": "code",
   "execution_count": 15,
   "metadata": {},
   "outputs": [
    {
     "name": "stdout",
     "output_type": "stream",
     "text": [
      "Shape of X: (999, 5)\n",
      "Shape of Y: (999,)\n"
     ]
    }
   ],
   "source": [
    "# Определение уровней производительности\n",
    "def performance_level(index):\n",
    "    if index >= 90:\n",
    "        return 3\n",
    "    elif 70 <= index < 90:\n",
    "        return 2\n",
    "    elif 50 <= index < 70:\n",
    "        return 1\n",
    "    else:\n",
    "        return 0\n",
    "\n",
    "data['Performance Level'] = data['Performance_Index'].apply(performance_level)\n",
    "\n",
    "\n",
    "# Разделение данных на признаки (X) и целевую переменную (y)\n",
    "X = data.drop(['Performance_Index', 'Performance Level'], axis=1)\n",
    "y = data['Performance Level']\n",
    "\n",
    "print(\"Shape of X:\", X.shape)\n",
    "print(\"Shape of Y:\", y.shape)\n",
    "\n",
    "\n"
   ]
  },
  {
   "cell_type": "markdown",
   "metadata": {},
   "source": [
    "Defining the sigmoid function, cost function and gradient for logistic regression.\n",
    "\n",
    "These functions will be used in the optimization process for parameter estimation."
   ]
  },
  {
   "cell_type": "code",
   "execution_count": 16,
   "metadata": {},
   "outputs": [],
   "source": [
    "def sigmoid(z):\n",
    "    return 1 / (1 + np.exp(-z))\n",
    "\n",
    "def cost(theta, X, y, learningRate):\n",
    "    m = len(y)\n",
    "    h = sigmoid(X.dot(theta))\n",
    "    J = (1 / m) * (-y.dot(np.log(h)) - (1 - y).dot(np.log(1 - h))) + (learningRate / (2 * m)) * np.sum(theta[1:]**2)\n",
    "    return J\n",
    "\n",
    "def gradient(theta, X, y, learningRate):\n",
    "    m = len(y)\n",
    "    h = sigmoid(X.dot(theta))\n",
    "    grad = (1 / m) * X.T.dot(h - y) + (learningRate / m) * np.r_[0, theta[1:]]\n",
    "    return grad\n",
    "\n",
    "\n",
    "def one_vs_all(X, y, num_labels, learning_rate):\n",
    "    rows, params = X.shape\n",
    "    \n",
    "    all_theta = np.zeros((num_labels, params))\n",
    "    \n",
    "    for i in range(1, num_labels + 1):\n",
    "        theta = np.zeros(params)\n",
    "        y_i = (y == i).astype(int)\n",
    "        \n",
    "        fmin = minimize(fun=cost, x0=theta, args=(X, y_i, learning_rate), method='TNC', jac=gradient)\n",
    "        all_theta[i-1, :] = fmin.x\n",
    "    \n",
    "    return all_theta"
   ]
  },
  {
   "cell_type": "markdown",
   "metadata": {},
   "source": [
    "Implementing the one-vs-all classification for logistic regression.\n",
    "\n",
    "This function trains multiple logistic regression classifiers, one for each class."
   ]
  },
  {
   "cell_type": "code",
   "execution_count": null,
   "metadata": {},
   "outputs": [],
   "source": [
    "all_theta = one_vs_all(X, y, 4, 1)\n",
    "print(all_theta)"
   ]
  },
  {
   "cell_type": "markdown",
   "metadata": {},
   "source": [
    "Function to predict the class for each instance in the dataset using the trained model."
   ]
  },
  {
   "cell_type": "code",
   "execution_count": 17,
   "metadata": {},
   "outputs": [
    {
     "name": "stdout",
     "output_type": "stream",
     "text": [
      "[[-5.10029318e-02  7.05210761e-03 -2.73277158e-01 -1.09485366e-01\n",
      "  -3.56906280e-02]\n",
      " [ 2.32052468e-02  4.15967959e-02 -4.97399210e-01 -5.13891195e-01\n",
      "  -1.28854231e-01]\n",
      " [ 1.98372924e-01  1.06322355e-02 -7.05587317e-01 -7.66385506e-01\n",
      "  -1.39277216e-01]\n",
      " [-1.67463578e+01 -5.07185466e-04 -4.13269000e-06 -4.75036495e-05\n",
      "  -3.17465311e-05]]\n"
     ]
    }
   ],
   "source": [
    "def predict_all(X, all_theta):\n",
    "    m, n = X.shape\n",
    "    num_labels = all_theta.shape[0]\n",
    "    \n",
    "    X = np.matrix(X)\n",
    "    \n",
    "    h = sigmoid(X * all_theta.T)\n",
    "    \n",
    "    h_argmax = np.argmax(h, axis=1)\n",
    "    h_argmax = h_argmax + 1\n",
    "    \n",
    "    return h_argmax"
   ]
  },
  {
   "cell_type": "markdown",
   "metadata": {},
   "source": [
    "Predicting the labels for the dataset and calculating the accuracy of the model."
   ]
  },
  {
   "cell_type": "code",
   "execution_count": 18,
   "metadata": {},
   "outputs": [
    {
     "name": "stdout",
     "output_type": "stream",
     "text": [
      "Точность = 34.03%\n"
     ]
    }
   ],
   "source": [
    "y_pred = predict_all(X, all_theta)\n",
    "y_pred = np.array(y_pred).ravel()\n",
    "\n",
    "accuracy = np.mean(y_pred == y) * 100\n",
    "print('Accuracy = {:.2f}%'.format(accuracy))"
   ]
  },
  {
   "cell_type": "markdown",
   "metadata": {},
   "source": [
    "The resulting model accuracy was 34.03%, indicating low model performance in the current configuration."
   ]
  },
  {
   "cell_type": "markdown",
   "metadata": {},
   "source": [
    "Using scikit-learn's logistic regression model to predict and evaluate the model's performance."
   ]
  },
  {
   "cell_type": "code",
   "execution_count": 19,
   "metadata": {},
   "outputs": [
    {
     "name": "stdout",
     "output_type": "stream",
     "text": [
      "acc: 0.992992992992993\n"
     ]
    }
   ],
   "source": [
    "from sklearn import linear_model\n",
    "model = linear_model.LogisticRegression(solver='newton-cg')\n",
    "model.fit(X, y_pred)\n",
    "\n",
    "\n",
    "print(f'acc: {model.score(X, y_pred)}')\n"
   ]
  },
  {
   "cell_type": "markdown",
   "metadata": {},
   "source": [
    "Additionally, a logistic regression model from the scikit-learn library was used and showed high accuracy (99.29%). This may indicate that the model performs well in predicting the classes it has already seen"
   ]
  }
 ],
 "metadata": {
  "kernelspec": {
   "display_name": "base",
   "language": "python",
   "name": "python3"
  },
  "language_info": {
   "codemirror_mode": {
    "name": "ipython",
    "version": 3
   },
   "file_extension": ".py",
   "mimetype": "text/x-python",
   "name": "python",
   "nbconvert_exporter": "python",
   "pygments_lexer": "ipython3",
   "version": "3.9.13"
  }
 },
 "nbformat": 4,
 "nbformat_minor": 2
}
